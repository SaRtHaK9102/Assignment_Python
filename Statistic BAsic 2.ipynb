{
 "cells": [
  {
   "cell_type": "code",
   "execution_count": null,
   "id": "4f2da468-e8f5-4487-bfa7-16c8899ed825",
   "metadata": {},
   "outputs": [],
   "source": []
  },
  {
   "cell_type": "markdown",
   "id": "a38f5f88-87f0-47ce-89aa-a3b582975319",
   "metadata": {},
   "source": [
    "Q1. What are the three measures of central tendency?"
   ]
  },
  {
   "cell_type": "raw",
   "id": "26e963a8-a8cf-4c76-b94e-1f0255ccfe34",
   "metadata": {},
   "source": [
    "mean, median, and mode"
   ]
  },
  {
   "cell_type": "code",
   "execution_count": null,
   "id": "69fa7864-3b91-451f-bf8c-20d54639b0e3",
   "metadata": {},
   "outputs": [],
   "source": []
  },
  {
   "cell_type": "markdown",
   "id": "29445370-9336-42e5-804c-52237c101350",
   "metadata": {},
   "source": [
    "Q2. What is the difference between the mean, median, and mode? How are they used to measure the\n",
    "central tendency of a dataset?"
   ]
  },
  {
   "cell_type": "raw",
   "id": "7d149218-4f85-403a-8822-77ff9bf4636a",
   "metadata": {},
   "source": [
    "Mean is the average, median is the middle value, and mode is the most frequent value"
   ]
  },
  {
   "cell_type": "code",
   "execution_count": null,
   "id": "00e32143-ff46-4124-b3a3-cfd8a5e956e9",
   "metadata": {},
   "outputs": [],
   "source": []
  },
  {
   "cell_type": "code",
   "execution_count": 4,
   "id": "84a3ee21-e698-4ee7-94a5-17ae364b6248",
   "metadata": {},
   "outputs": [],
   "source": [
    "# Q3. Measure the three measures of central tendency for the given height data:\n",
    "import numpy as np\n",
    "from scipy import stats\n",
    "d = [178,177,176,177,178.2,178,175,179,180,175,178.9,176.2,177,172.5,178,176.5]\n"
   ]
  },
  {
   "cell_type": "code",
   "execution_count": 8,
   "id": "5537d749-fd44-4383-b512-0bb8209e1588",
   "metadata": {},
   "outputs": [
    {
     "data": {
      "text/plain": [
       "177.01875"
      ]
     },
     "execution_count": 8,
     "metadata": {},
     "output_type": "execute_result"
    }
   ],
   "source": [
    "median = np.mean(d)\n",
    "median"
   ]
  },
  {
   "cell_type": "code",
   "execution_count": 9,
   "id": "328a909b-f09c-4306-ae2d-c8742f6ee7d0",
   "metadata": {},
   "outputs": [
    {
     "data": {
      "text/plain": [
       "177.01875"
      ]
     },
     "execution_count": 9,
     "metadata": {},
     "output_type": "execute_result"
    }
   ],
   "source": [
    "mean = np.mean(d)\n",
    "mean"
   ]
  },
  {
   "cell_type": "code",
   "execution_count": 13,
   "id": "4dfb203e-bab9-42be-94fc-ef03ea10523f",
   "metadata": {},
   "outputs": [
    {
     "name": "stderr",
     "output_type": "stream",
     "text": [
      "/tmp/ipykernel_328/1946076366.py:1: FutureWarning: Unlike other reduction functions (e.g. `skew`, `kurtosis`), the default behavior of `mode` typically preserves the axis it acts along. In SciPy 1.11.0, this behavior will change: the default value of `keepdims` will become False, the `axis` over which the statistic is taken will be eliminated, and the value None will no longer be accepted. Set `keepdims` to True or False to avoid this warning.\n",
      "  mode = stats.mode(d)\n"
     ]
    },
    {
     "data": {
      "text/plain": [
       "ModeResult(mode=array([177.]), count=array([3]))"
      ]
     },
     "execution_count": 13,
     "metadata": {},
     "output_type": "execute_result"
    }
   ],
   "source": [
    "mode = stats.mode(d)\n",
    "mode"
   ]
  },
  {
   "cell_type": "code",
   "execution_count": null,
   "id": "52b058d6-9e95-4626-a65b-ab4aeb262e0f",
   "metadata": {},
   "outputs": [],
   "source": []
  },
  {
   "cell_type": "markdown",
   "id": "3d01acc5-bb0c-4909-b556-adfcb38604ea",
   "metadata": {},
   "source": [
    "##Q4. Find the standard deviation for the given data:\n",
    "d = [178,177,176,177,178.2,178,175,179,180,175,178.9,176.2,177,172.5,178,176.5]"
   ]
  },
  {
   "cell_type": "code",
   "execution_count": 15,
   "id": "838721ab-46e4-44ad-ad68-f663070c211b",
   "metadata": {},
   "outputs": [
    {
     "data": {
      "text/plain": [
       "1.7885814036548633"
      ]
     },
     "execution_count": 15,
     "metadata": {},
     "output_type": "execute_result"
    }
   ],
   "source": [
    "import numpy as np\n",
    "d= [178, 177, 176, 177, 178.2, 178, 175, 179, 180, 175, 178.9, 176.2, 177, 172.5, 178, 176.5]\n",
    "std_deviation = np.std(d)\n",
    "\n",
    "std_deviation\n"
   ]
  },
  {
   "cell_type": "code",
   "execution_count": null,
   "id": "bf7e3702-0044-47dd-8be8-167b9a9f3f0e",
   "metadata": {},
   "outputs": [],
   "source": []
  },
  {
   "cell_type": "markdown",
   "id": "dd565ac3-f4c9-4a79-b697-1f95dd2951e7",
   "metadata": {},
   "source": [
    "Q5. How are measures of dispersion such as range, variance, and standard deviation used to describe\n",
    "the spread of a dataset? Provide an example."
   ]
  },
  {
   "cell_type": "raw",
   "id": "8ce38593-2ae3-4a2b-916e-ed11b2dc0165",
   "metadata": {},
   "source": [
    "Range: The difference between the max and min values\n",
    "\n",
    "Variance: Average of squared differences from the mean\n",
    "\n",
    "Standard Deviation: Square root of variance"
   ]
  },
  {
   "cell_type": "code",
   "execution_count": null,
   "id": "ba71856f-51f2-4ff7-b2a5-65511cbdc60b",
   "metadata": {},
   "outputs": [],
   "source": []
  },
  {
   "cell_type": "markdown",
   "id": "d8be8ad0-4871-4d93-9fc6-f07722592d7f",
   "metadata": {},
   "source": [
    "Q6. What is a Venn diagram?"
   ]
  },
  {
   "cell_type": "raw",
   "id": "725e40c5-c8d9-4639-9ffa-8af7503d9ad4",
   "metadata": {},
   "source": [
    " Venn diagram is a visual representation of the relationship between sets, showing their common elements and differences"
   ]
  },
  {
   "cell_type": "code",
   "execution_count": null,
   "id": "5fe9b20f-92b3-4d99-95fc-80562cad52a7",
   "metadata": {},
   "outputs": [],
   "source": []
  },
  {
   "cell_type": "markdown",
   "id": "366e490b-f7e5-4753-9723-0abe6f716acc",
   "metadata": {},
   "source": [
    "Q7. For the two given sets A = (2,3,4,5,6,7) & B = (0,2,6,8,10). Find:\n",
    "(i) A B\n",
    "(ii) A ⋃ B"
   ]
  },
  {
   "cell_type": "raw",
   "id": "5b1aad08-d87e-4629-8a73-341d4067fefa",
   "metadata": {},
   "source": [
    "(i) A ∩ B = {2, 6}\n",
    "(ii) A ⋃ B = {0, 2, 3, 4, 5, 6, 7, 8, 10}"
   ]
  },
  {
   "cell_type": "code",
   "execution_count": null,
   "id": "36a807be-50f6-44ae-8864-68b9c0f65368",
   "metadata": {},
   "outputs": [],
   "source": []
  },
  {
   "cell_type": "markdown",
   "id": "b6592b3d-e664-4891-82a6-d40220aeac94",
   "metadata": {},
   "source": [
    "Q8. What do you understand about skewness in data?"
   ]
  },
  {
   "cell_type": "raw",
   "id": "09d28768-bdf2-490e-9213-b1482f55e8e4",
   "metadata": {},
   "source": [
    "Skewness in data indicates its asymmetry\n",
    "Positive skew means a longer tail on the right; negative skew means a longer tail on the left"
   ]
  },
  {
   "cell_type": "code",
   "execution_count": null,
   "id": "46c81d6e-42eb-4c29-b419-3f765acad486",
   "metadata": {},
   "outputs": [],
   "source": []
  },
  {
   "cell_type": "markdown",
   "id": "cdd0b213-04ef-4367-a06d-cece8b2e7a7b",
   "metadata": {},
   "source": [
    "Q9. If a data is right skewed then what will be the position of median with respect to mean?"
   ]
  },
  {
   "cell_type": "raw",
   "id": "dc289748-b538-4f3a-b1cb-5f07f72610a8",
   "metadata": {},
   "source": [
    " In right-skewed data, the median is less than the mean"
   ]
  },
  {
   "cell_type": "code",
   "execution_count": null,
   "id": "96e49ed9-e7e4-4cf8-8380-bcebc089924b",
   "metadata": {},
   "outputs": [],
   "source": []
  },
  {
   "cell_type": "markdown",
   "id": "a3d4cee5-ed3d-4aa7-b88c-edd08687a069",
   "metadata": {},
   "source": [
    "Q10. Explain the difference between covariance and correlation. How are these measures used in\n",
    "statistical analysis?"
   ]
  },
  {
   "cell_type": "raw",
   "id": "e2b8dc1a-5e3e-4999-a0e9-f9bf21e013b9",
   "metadata": {},
   "source": [
    "Covariance measures the joint variability of two variables, while correlation standardizes it to a scale of -1 to 1\n",
    "\n",
    "They help assess the relationship between variables"
   ]
  },
  {
   "cell_type": "code",
   "execution_count": null,
   "id": "c014b4d1-c8c3-4b3b-a5c1-ef5eaa80a804",
   "metadata": {},
   "outputs": [],
   "source": []
  },
  {
   "cell_type": "markdown",
   "id": "5815717d-f415-4c05-9461-0e254a957713",
   "metadata": {},
   "source": [
    "Q11. What is the formula for calculating the sample mean? Provide an example calculation for a\n",
    "dataset."
   ]
  },
  {
   "cell_type": "code",
   "execution_count": null,
   "id": "eefa374a-e6fd-4638-afae-3df1e835525b",
   "metadata": {},
   "outputs": [],
   "source": [
    "Sample Mean Formula: Sum of values divided by the number of values.\n",
    "\n",
    "Example: (5 + 7 + 9) / 3 = 7"
   ]
  },
  {
   "cell_type": "code",
   "execution_count": null,
   "id": "e53c66f5-5ef2-4b37-9d9a-841dcc9fbd83",
   "metadata": {},
   "outputs": [],
   "source": []
  },
  {
   "cell_type": "markdown",
   "id": "916e43b9-8c3d-44ca-aa36-36b4cf00eb11",
   "metadata": {},
   "source": [
    "Q12. For a normal distribution data what is the relationship between its measure of central tendency?"
   ]
  },
  {
   "cell_type": "raw",
   "id": "7eb80c4b-9c2c-48be-8741-cb7a7f41bfb1",
   "metadata": {},
   "source": [
    "In a normal distribution, mean, median, and mode are all equal and located at the center."
   ]
  },
  {
   "cell_type": "code",
   "execution_count": null,
   "id": "ea2a79e3-d74e-47e9-b261-36d3c5f361f7",
   "metadata": {},
   "outputs": [],
   "source": []
  },
  {
   "cell_type": "markdown",
   "id": "4a3067bb-0723-4f3f-a807-f0df86ebe1eb",
   "metadata": {},
   "source": [
    "Q13. How is covariance different from correlation?"
   ]
  },
  {
   "cell_type": "raw",
   "id": "ae206add-6b57-4af8-958b-c4a10c258251",
   "metadata": {},
   "source": [
    " Covariance measures the direction of the linear relationship between two variables, while correlation measures both direction and strength, normalized between -1 and 1"
   ]
  },
  {
   "cell_type": "code",
   "execution_count": null,
   "id": "b775247b-3b55-46f6-822f-57c11ebd4e83",
   "metadata": {},
   "outputs": [],
   "source": []
  },
  {
   "cell_type": "markdown",
   "id": "d1eaff7c-d73d-4d3d-92b2-830f28284133",
   "metadata": {},
   "source": [
    "Q14. How do outliers affect measures of central tendency and dispersion? Provide an example."
   ]
  },
  {
   "cell_type": "raw",
   "id": "47ca98c2-c530-40d3-9842-76e7476a9b48",
   "metadata": {},
   "source": [
    " Outliers can significantly affect measures of central tendency like the mean and can increase the spread measures like standard deviation\n",
    "    Example: If a dataset of salaries includes an extremely high outlier, the mean salary will be skewed upwards."
   ]
  }
 ],
 "metadata": {
  "kernelspec": {
   "display_name": "Python 3 (ipykernel)",
   "language": "python",
   "name": "python3"
  },
  "language_info": {
   "codemirror_mode": {
    "name": "ipython",
    "version": 3
   },
   "file_extension": ".py",
   "mimetype": "text/x-python",
   "name": "python",
   "nbconvert_exporter": "python",
   "pygments_lexer": "ipython3",
   "version": "3.10.8"
  }
 },
 "nbformat": 4,
 "nbformat_minor": 5
}

{
 "cells": [
  {
   "cell_type": "markdown",
   "id": "b9c077eb-86cd-4dd4-a8c9-f1db9a4880fd",
   "metadata": {},
   "source": [
    "Q1. Create a python program to sort the given list of tuples based on integer value using a\n",
    "lambda function."
   ]
  },
  {
   "cell_type": "code",
   "execution_count": 1,
   "id": "897c38f3-25be-44e6-b438-caf6cae39354",
   "metadata": {},
   "outputs": [
    {
     "name": "stdout",
     "output_type": "stream",
     "text": [
      "('Sachin Tendulkar', 34357)\n",
      "('Ricky Ponting', 27483)\n",
      "('Jack Kallis', 25534)\n",
      "('Virat Kohli', 24936)\n"
     ]
    },
    {
     "data": {
      "text/plain": [
       "[None, None, None, None]"
      ]
     },
     "execution_count": 1,
     "metadata": {},
     "output_type": "execute_result"
    }
   ],
   "source": [
    "tup = [('Sachin Tendulkar', 34357), ('Ricky Ponting', 27483), ('Jack Kallis', 25534), ('Virat Kohli', 24936)]\n",
    "sort_func = lambda x: [print(i) for i in x]\n",
    "\n",
    "sort_func(tup)"
   ]
  },
  {
   "cell_type": "markdown",
   "id": "daa58d24-389e-46d2-9e9e-081b6d2c5ad6",
   "metadata": {},
   "source": [
    "#NOTE\n",
    "--> I TRIED THE ABOVE CODE ON - PYCHARM & ONLINE PYTHON INTERPRETER I AM GETTING THE EXACT OUTPUT. BUT ON JUPYTER NOTEBOOK, I'M GETTING THAT \n",
    "[NONE] list item"
   ]
  },
  {
   "cell_type": "code",
   "execution_count": null,
   "id": "ebb0b3c6-5e7a-47fa-8cd5-d009292e7dd8",
   "metadata": {},
   "outputs": [],
   "source": []
  },
  {
   "cell_type": "code",
   "execution_count": null,
   "id": "90790563-2e03-46cd-82c1-3b25aeeb1e97",
   "metadata": {},
   "outputs": [],
   "source": [
    "Q2. Write a Python Program to find the squares of all the numbers in the given list of integers using\n",
    "lambda and map functions."
   ]
  },
  {
   "cell_type": "code",
   "execution_count": null,
   "id": "faa03fd0-7842-471a-92bd-ee622ee2d1a0",
   "metadata": {},
   "outputs": [],
   "source": [
    "l = [1, 2, 3, 4, 5, 6, 7, 8, 9, 10]\n",
    "\n",
    "square = list(map(lambda x: x ** 2, l))\n",
    "\n",
    "print(square)"
   ]
  },
  {
   "cell_type": "code",
   "execution_count": null,
   "id": "46e98cfb-219f-46ba-ae2d-9067d4bb082d",
   "metadata": {},
   "outputs": [],
   "source": []
  },
  {
   "cell_type": "code",
   "execution_count": null,
   "id": "eefd365c-68a9-4405-97d0-04ff0fa85322",
   "metadata": {},
   "outputs": [],
   "source": [
    "Q3. Write a python program to convert the given list of integers into a tuple of strings. Use map and\n",
    "lambda functions"
   ]
  },
  {
   "cell_type": "code",
   "execution_count": null,
   "id": "563e5a21-f139-4925-bc82-4e5372a0c236",
   "metadata": {},
   "outputs": [],
   "source": [
    "l1 = [1, 2, 3, 4, 5, 6, 7, 8, 9, 10]\n",
    "\n",
    "str_tup = tuple(map(lambda x: str(x), l1))\n",
    "\n",
    "print(str_tup)"
   ]
  },
  {
   "cell_type": "code",
   "execution_count": null,
   "id": "3eb39712-cebf-4561-b80a-97472599f97c",
   "metadata": {},
   "outputs": [],
   "source": []
  },
  {
   "cell_type": "code",
   "execution_count": null,
   "id": "cd0dbe9c-c7df-41e0-a335-ef1014298ff2",
   "metadata": {},
   "outputs": [],
   "source": [
    "Q4. Write a python program using reduce function to compute the product of a list containing numbers\n",
    "from 1 to 25."
   ]
  },
  {
   "cell_type": "code",
   "execution_count": null,
   "id": "4bc467a1-4e7d-4b30-bdd0-2c36c1d04b4a",
   "metadata": {},
   "outputs": [],
   "source": []
  },
  {
   "cell_type": "code",
   "execution_count": null,
   "id": "88ed1bbc-7a1f-4f8e-be89-5cf4dc959943",
   "metadata": {},
   "outputs": [],
   "source": []
  },
  {
   "cell_type": "code",
   "execution_count": null,
   "id": "bd08901e-7aad-4066-bcb7-f127878d7001",
   "metadata": {},
   "outputs": [],
   "source": []
  }
 ],
 "metadata": {
  "kernelspec": {
   "display_name": "Python 3 (ipykernel)",
   "language": "python",
   "name": "python3"
  },
  "language_info": {
   "codemirror_mode": {
    "name": "ipython",
    "version": 3
   },
   "file_extension": ".py",
   "mimetype": "text/x-python",
   "name": "python",
   "nbconvert_exporter": "python",
   "pygments_lexer": "ipython3",
   "version": "3.10.8"
  }
 },
 "nbformat": 4,
 "nbformat_minor": 5
}

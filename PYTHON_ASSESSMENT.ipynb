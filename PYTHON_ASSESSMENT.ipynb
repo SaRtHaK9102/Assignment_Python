{
 "cells": [
  {
   "cell_type": "markdown",
   "id": "b9c077eb-86cd-4dd4-a8c9-f1db9a4880fd",
   "metadata": {},
   "source": [
    "Q1. Create a python program to sort the given list of tuples based on integer value using a\n",
    "lambda function."
   ]
  },
  {
   "cell_type": "code",
   "execution_count": 1,
   "id": "897c38f3-25be-44e6-b438-caf6cae39354",
   "metadata": {},
   "outputs": [
    {
     "name": "stdout",
     "output_type": "stream",
     "text": [
      "('Sachin Tendulkar', 34357)\n",
      "('Ricky Ponting', 27483)\n",
      "('Jack Kallis', 25534)\n",
      "('Virat Kohli', 24936)\n"
     ]
    },
    {
     "data": {
      "text/plain": [
       "[None, None, None, None]"
      ]
     },
     "execution_count": 1,
     "metadata": {},
     "output_type": "execute_result"
    }
   ],
   "source": [
    "tup = [('Sachin Tendulkar', 34357), ('Ricky Ponting', 27483), ('Jack Kallis', 25534), ('Virat Kohli', 24936)]\n",
    "sort_func = lambda x: [print(i) for i in x]\n",
    "\n",
    "sort_func(tup)"
   ]
  },
  {
   "cell_type": "markdown",
   "id": "daa58d24-389e-46d2-9e9e-081b6d2c5ad6",
   "metadata": {},
   "source": [
    "#NOTE\n",
    "--> I TRIED THE ABOVE CODE ON - PYCHARM & ONLINE PYTHON INTERPRETER I AM GETTING THE EXACT OUTPUT. BUT ON JUPYTER NOTEBOOK, I'M GETTING THAT \n",
    "[NONE] list item"
   ]
  },
  {
   "cell_type": "code",
   "execution_count": null,
   "id": "ebb0b3c6-5e7a-47fa-8cd5-d009292e7dd8",
   "metadata": {},
   "outputs": [],
   "source": []
  },
  {
   "cell_type": "markdown",
   "id": "1bf786bb-2edc-4c0d-af69-657636229532",
   "metadata": {},
   "source": [
    "Q2. Write a Python Program to find the squares of all the numbers in the given list of integers using\n",
    "lambda and map functions."
   ]
  },
  {
   "cell_type": "code",
   "execution_count": 5,
   "id": "faa03fd0-7842-471a-92bd-ee622ee2d1a0",
   "metadata": {},
   "outputs": [
    {
     "name": "stdout",
     "output_type": "stream",
     "text": [
      "[1, 4, 9, 16, 25, 36, 49, 64, 81, 100]\n"
     ]
    }
   ],
   "source": [
    "l = [1, 2, 3, 4, 5, 6, 7, 8, 9, 10]\n",
    "\n",
    "square = list(map(lambda x: x ** 2, l))\n",
    "\n",
    "print(square)"
   ]
  },
  {
   "cell_type": "code",
   "execution_count": null,
   "id": "46e98cfb-219f-46ba-ae2d-9067d4bb082d",
   "metadata": {},
   "outputs": [],
   "source": []
  },
  {
   "cell_type": "markdown",
   "id": "b4171be6-967c-4194-a656-90dd7b3ab5d9",
   "metadata": {},
   "source": [
    "Q3. Write a python program to convert the given list of integers into a tuple of strings. Use map and\n",
    "lambda functions"
   ]
  },
  {
   "cell_type": "code",
   "execution_count": 6,
   "id": "563e5a21-f139-4925-bc82-4e5372a0c236",
   "metadata": {},
   "outputs": [
    {
     "name": "stdout",
     "output_type": "stream",
     "text": [
      "('1', '2', '3', '4', '5', '6', '7', '8', '9', '10')\n"
     ]
    }
   ],
   "source": [
    "l1 = [1, 2, 3, 4, 5, 6, 7, 8, 9, 10]\n",
    "\n",
    "str_tup = tuple(map(lambda x: str(x), l1))\n",
    "\n",
    "print(str_tup)"
   ]
  },
  {
   "cell_type": "code",
   "execution_count": null,
   "id": "3eb39712-cebf-4561-b80a-97472599f97c",
   "metadata": {},
   "outputs": [],
   "source": []
  },
  {
   "cell_type": "markdown",
   "id": "413f40f7-3c84-4c16-829b-e173b350da03",
   "metadata": {},
   "source": [
    "Q4. Write a python program using reduce function to compute the product of a list containing numbers\n",
    "from 1 to 25."
   ]
  },
  {
   "cell_type": "code",
   "execution_count": 7,
   "id": "4bc467a1-4e7d-4b30-bdd0-2c36c1d04b4a",
   "metadata": {},
   "outputs": [
    {
     "name": "stdout",
     "output_type": "stream",
     "text": [
      "[0, 1, 2, 3, 4, 5, 6, 7, 8, 9, 10, 11, 12, 13, 14, 15, 16, 17, 18, 19, 20, 21, 22, 23, 24, 25]\n"
     ]
    }
   ],
   "source": [
    "l1 = []\n",
    "\n",
    "for i in range(0,26):\n",
    "    l1.append(i)\n",
    "print(l1)"
   ]
  },
  {
   "cell_type": "code",
   "execution_count": 8,
   "id": "88ed1bbc-7a1f-4f8e-be89-5cf4dc959943",
   "metadata": {},
   "outputs": [
    {
     "data": {
      "text/plain": [
       "3628800"
      ]
     },
     "execution_count": 8,
     "metadata": {},
     "output_type": "execute_result"
    }
   ],
   "source": [
    "from functools import reduce\n",
    "reduce(lambda x, y : x*y, l)"
   ]
  },
  {
   "cell_type": "code",
   "execution_count": null,
   "id": "bd08901e-7aad-4066-bcb7-f127878d7001",
   "metadata": {},
   "outputs": [],
   "source": []
  },
  {
   "cell_type": "markdown",
   "id": "4897f1e2-c75b-4808-9172-5b2c4a661c5c",
   "metadata": {},
   "source": [
    "Q5. Write a python program to filter the numbers in a given list that are divisible by 2 and 3 using the\n",
    "filter function.\n"
   ]
  },
  {
   "cell_type": "code",
   "execution_count": 9,
   "id": "34030b20-7e92-4444-89dc-c45e73af4aed",
   "metadata": {},
   "outputs": [
    {
     "name": "stdout",
     "output_type": "stream",
     "text": [
      "[6, 60, 90, 120]\n"
     ]
    }
   ],
   "source": [
    "l = [2, 3, 6, 9, 27, 60, 90, 120, 55, 46]\n",
    "\n",
    "filt_num = list(filter(lambda x : x % 2 == 0 and x % 3 == 0 ,l))\n",
    "\n",
    "print(filt_num)"
   ]
  },
  {
   "cell_type": "code",
   "execution_count": null,
   "id": "32174848-1e4f-42ee-b1d8-990f7f269089",
   "metadata": {},
   "outputs": [],
   "source": []
  },
  {
   "cell_type": "markdown",
   "id": "1e7c5722-edfb-4c4a-8163-6f5db43faeaf",
   "metadata": {},
   "source": [
    "Q6. Write a python program to find palindromes in the given list of strings using lambda and filter\n",
    "function.\n",
    "l1 =['python', 'php', 'aba', 'radar', 'level']"
   ]
  },
  {
   "cell_type": "code",
   "execution_count": 10,
   "id": "05bc415a-34ef-43cc-bb7c-e705673e9041",
   "metadata": {},
   "outputs": [
    {
     "name": "stdout",
     "output_type": "stream",
     "text": [
      "['php', 'aba', 'radar', 'level']\n"
     ]
    }
   ],
   "source": [
    "l1 =['python', 'php', 'aba', 'radar', 'level']\n",
    "\n",
    "palindroome = list(filter(lambda x: x == x[::-1], l1))\n",
    "\n",
    "print(palindroome)\n"
   ]
  },
  {
   "cell_type": "code",
   "execution_count": null,
   "id": "a2352e46-9b78-4f13-8060-25a5589ba7c5",
   "metadata": {},
   "outputs": [],
   "source": []
  }
 ],
 "metadata": {
  "kernelspec": {
   "display_name": "Python 3 (ipykernel)",
   "language": "python",
   "name": "python3"
  },
  "language_info": {
   "codemirror_mode": {
    "name": "ipython",
    "version": 3
   },
   "file_extension": ".py",
   "mimetype": "text/x-python",
   "name": "python",
   "nbconvert_exporter": "python",
   "pygments_lexer": "ipython3",
   "version": "3.10.8"
  }
 },
 "nbformat": 4,
 "nbformat_minor": 5
}

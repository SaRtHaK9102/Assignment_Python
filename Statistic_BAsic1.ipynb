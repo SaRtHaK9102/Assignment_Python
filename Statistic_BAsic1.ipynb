{
 "cells": [
  {
   "cell_type": "markdown",
   "id": "54e13a55-c193-444a-8fe1-ade215cf87eb",
   "metadata": {},
   "source": [
    "Q1. What is Statistics?"
   ]
  },
  {
   "cell_type": "raw",
   "id": "b252dd8a-db88-496d-b1c7-ba0d4767dbf8",
   "metadata": {},
   "source": [
    "1. Statistic is the science of collecting, organinzing and analyzing the dta.\n"
   ]
  },
  {
   "cell_type": "code",
   "execution_count": null,
   "id": "b4e22878-644a-4d57-b55e-432984a33aa4",
   "metadata": {},
   "outputs": [],
   "source": []
  },
  {
   "cell_type": "markdown",
   "id": "2f10aa22-e5d9-4686-8c3a-5ea4a2e6f0a6",
   "metadata": {},
   "source": [
    "Q2. Define the different types of statistics and give an example of when each type might be used."
   ]
  },
  {
   "cell_type": "raw",
   "id": "4a5027a4-5686-4f26-a801-503d06fa4f5d",
   "metadata": {},
   "source": [
    "1. Descriptive Statistic : It basically consist of organizing and summarizing the data.\n",
    "\n",
    "eg: Average height of the studdent in a classroom.\n",
    "\n",
    "2. Inferential Statistic : It consist of using the data to form the conclusions.\n",
    "\n",
    "eg: How many people will take the home loans till 2025?"
   ]
  },
  {
   "cell_type": "code",
   "execution_count": null,
   "id": "10a17cda-0800-4b15-9d4d-4f152b0f766e",
   "metadata": {},
   "outputs": [],
   "source": []
  },
  {
   "cell_type": "markdown",
   "id": "022005c7-1fb8-4aac-bdbb-d3aa98c704ac",
   "metadata": {},
   "source": [
    "Q3. What are the different types of data and how do they differ from each other? Provide an example of\n",
    "each type of data."
   ]
  },
  {
   "cell_type": "raw",
   "id": "97d325f1-e783-4cdf-94b0-e74d882c6813",
   "metadata": {},
   "source": [
    "1. Qualitative Data : The Qualitative data is the type of data which consist of categorical/ figure data.\n",
    "\n",
    "eg : Blood group of people, Pincode of cities etc\n",
    "\n",
    "2. Quantitative Data : The Quantitative data always deals in the whole number.\n",
    "\n",
    "eg: No. of student in a college, No. of family members etc"
   ]
  },
  {
   "cell_type": "code",
   "execution_count": null,
   "id": "7bf6aead-460e-4733-8d07-f8678440c565",
   "metadata": {},
   "outputs": [],
   "source": []
  },
  {
   "cell_type": "markdown",
   "id": "0042e1ea-05e9-4249-9041-19a6405f8df6",
   "metadata": {},
   "source": [
    "Q4. Categorise the following datasets with respect to quantitative and qualitative data types:\n",
    "(i) Grading in exam: A+, A, B+, B, C+, C, D, E\n",
    "(ii) Colour of mangoes: yellow, green, orange, red\n",
    "(iii) Height data of a class: [178.9, 179, 179.5, 176, 177.2, 178.3, 175.8,...]\n",
    "(iv) Number of mangoes exported by a farm: [500, 600, 478, 672, ...]"
   ]
  },
  {
   "cell_type": "raw",
   "id": "ba873a6e-2092-4ac5-8f89-e4019953684d",
   "metadata": {},
   "source": [
    "i) Qualitative data\n",
    "ii) Qualitative data\n",
    "iii) Quantitative data\n",
    "iv)Quantitative data"
   ]
  },
  {
   "cell_type": "code",
   "execution_count": null,
   "id": "fe5601dc-7681-4750-8c78-55a6734057d6",
   "metadata": {},
   "outputs": [],
   "source": []
  },
  {
   "cell_type": "markdown",
   "id": "490df45a-860d-4a80-9f14-35c3dc7fe1ca",
   "metadata": {},
   "source": [
    "Q5. Explain the concept of levels of measurement and give an example of a variable for each level."
   ]
  },
  {
   "cell_type": "raw",
   "id": "656d2f71-9361-40bb-b00f-07593748eb15",
   "metadata": {},
   "source": [
    "Nominal: Categories with no order (e.g., eye color).\n",
    "Ordinal: Ordered categories with uneven intervals (e.g., education level).\n",
    "Interval: Ordered categories with even intervals but no true zero (e.g., temperature in Celsius).\n",
    "Ratio: Ordered categories with even intervals and a meaningful zero (e.g., age)."
   ]
  },
  {
   "cell_type": "code",
   "execution_count": null,
   "id": "31ffde96-6b96-45f9-a5ed-033cee8a3404",
   "metadata": {},
   "outputs": [],
   "source": []
  },
  {
   "cell_type": "markdown",
   "id": "e5ebf645-b5a3-4f3d-aae6-5d38739574ad",
   "metadata": {},
   "source": [
    "Q6. Why is it important to understand the level of measurement when analyzing data? Provide an\n",
    "example to illustrate your answer."
   ]
  },
  {
   "cell_type": "raw",
   "id": "afeab108-0605-4561-a3cd-f257a7b13987",
   "metadata": {},
   "source": [
    "It determines which statistical analyses are appropriate.\n",
    "\n",
    "Misclassification can lead to incorrect conclusions (e.g., treating ordinal as ratio)."
   ]
  },
  {
   "cell_type": "code",
   "execution_count": null,
   "id": "adcf028e-a970-4a98-9ec5-37668d18a67d",
   "metadata": {},
   "outputs": [],
   "source": []
  },
  {
   "cell_type": "markdown",
   "id": "e3fdfe95-4c0b-4a5d-a299-cca39649d6ad",
   "metadata": {},
   "source": [
    "Q7. How nominal data type is different from ordinal data type."
   ]
  },
  {
   "cell_type": "raw",
   "id": "92b9cc38-99fa-4ec2-9c68-c8291c491612",
   "metadata": {},
   "source": [
    "Nominal: No order (e.g., colors).\n",
    "\n",
    "Ordinal: Ordered with uneven intervals (e.g., size rankings)"
   ]
  },
  {
   "cell_type": "code",
   "execution_count": null,
   "id": "8e59a0b7-2605-49ae-b398-be08c51019dd",
   "metadata": {},
   "outputs": [],
   "source": []
  },
  {
   "cell_type": "markdown",
   "id": "24b6c62f-b22f-4682-a6cc-7d32d5b9496d",
   "metadata": {},
   "source": [
    "Q8. Which type of plot can be used to display data in terms of range?"
   ]
  },
  {
   "cell_type": "raw",
   "id": "e2607040-3589-42e9-a50c-1c1730b85d33",
   "metadata": {},
   "source": [
    "Box plot (box-and-whisker plot)"
   ]
  },
  {
   "cell_type": "code",
   "execution_count": null,
   "id": "0a32a72c-a1d0-48bf-94b1-4f867d5f9496",
   "metadata": {},
   "outputs": [],
   "source": []
  },
  {
   "cell_type": "markdown",
   "id": "1396a6ed-e259-4e87-93c6-d9183e46734c",
   "metadata": {},
   "source": [
    "Q9. Describe the difference between descriptive and inferential statistics. Give an example of each\n",
    "type of statistics and explain how they are used."
   ]
  },
  {
   "cell_type": "raw",
   "id": "1ce33444-be0a-4ffa-93da-5c435c348938",
   "metadata": {},
   "source": [
    "Descriptive: Summarizes data (e.g., mean, standard deviation)\n",
    "\n",
    "Inferential: Makes inferences from data to a population (e.g: hypothesis tests)"
   ]
  },
  {
   "cell_type": "code",
   "execution_count": null,
   "id": "b2dbab66-ae73-4d42-bd9b-875febe96d55",
   "metadata": {},
   "outputs": [],
   "source": []
  },
  {
   "cell_type": "markdown",
   "id": "254d97c3-afb8-4733-bae6-9f826d26a265",
   "metadata": {},
   "source": [
    "Q10. What are some common measures of central tendency and variability used in statistics? Explain\n",
    "how each measure can be used to describe a dataset."
   ]
  },
  {
   "cell_type": "raw",
   "id": "e8f2ccd3-fee0-47af-b8e8-8109d2762acc",
   "metadata": {},
   "source": [
    "Central Tendency: Mean, Median, Mode\n",
    "\n",
    "Variability: Range, Variance, Standard Deviation."
   ]
  },
  {
   "cell_type": "code",
   "execution_count": null,
   "id": "ecf96e1d-ebc4-47c2-aeb5-3a65a99dcae8",
   "metadata": {},
   "outputs": [],
   "source": []
  }
 ],
 "metadata": {
  "kernelspec": {
   "display_name": "Python 3 (ipykernel)",
   "language": "python",
   "name": "python3"
  },
  "language_info": {
   "codemirror_mode": {
    "name": "ipython",
    "version": 3
   },
   "file_extension": ".py",
   "mimetype": "text/x-python",
   "name": "python",
   "nbconvert_exporter": "python",
   "pygments_lexer": "ipython3",
   "version": "3.10.8"
  }
 },
 "nbformat": 4,
 "nbformat_minor": 5
}

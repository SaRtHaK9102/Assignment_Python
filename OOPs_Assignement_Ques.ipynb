{
 "cells": [
  {
   "cell_type": "markdown",
   "id": "c663e0f1-e02e-4ce4-acd5-87112962f0b4",
   "metadata": {},
   "source": [
    "Q1, Create a vehicle class with an init method having instance variables as name_of_vehicle, max_speed\n",
    "and average_of_vehicle."
   ]
  },
  {
   "cell_type": "code",
   "execution_count": 36,
   "id": "db79db87-c153-4c68-bb2f-b870e44d5d69",
   "metadata": {},
   "outputs": [],
   "source": [
    "class vehicle:\n",
    "    \n",
    "    def __init__(self, name_of_vehicle, max_speed, average_of_vehicle):\n",
    "        self.name_of_vehicle = name_of_vehicle\n",
    "        self.max_speed = max_speed\n",
    "        self.average_of_vehicle = average_of_vehicle"
   ]
  },
  {
   "cell_type": "code",
   "execution_count": null,
   "id": "53e0466a-8321-41df-b6ad-791a130589c1",
   "metadata": {},
   "outputs": [],
   "source": []
  },
  {
   "cell_type": "markdown",
   "id": "fbdf284b-a0e8-4af9-8a3b-10da1ad45e4a",
   "metadata": {},
   "source": [
    "Q2. Create a child class car from the vehicle class created in Que 1, which will inherit the vehicle class.\n",
    "Create a method named seating_capacity which takes capacity as an argument and returns the name of\n",
    "the vehicle and its seating capacity."
   ]
  },
  {
   "cell_type": "code",
   "execution_count": 37,
   "id": "4b7638e8-06cd-4f37-8a4c-132c07efe8bf",
   "metadata": {},
   "outputs": [
    {
     "name": "stdout",
     "output_type": "stream",
     "text": [
      "Honda Civic has a seating capacity of 5.\n"
     ]
    }
   ],
   "source": [
    "class Car(vehicle):\n",
    "    def seating_capacity(self, capacity):\n",
    "        return f\"{self.name_of_vehicle} has a seating capacity of {capacity}.\""
   ]
  },
  {
   "cell_type": "code",
   "execution_count": 40,
   "id": "e5e1f709-5956-458f-ab72-f7dcad125b67",
   "metadata": {},
   "outputs": [],
   "source": [
    "car = Car(\"Honda City\", 200, 80)"
   ]
  },
  {
   "cell_type": "code",
   "execution_count": 41,
   "id": "e5654dd3-58f4-46a6-ba82-380584d54fa7",
   "metadata": {},
   "outputs": [
    {
     "name": "stdout",
     "output_type": "stream",
     "text": [
      "Honda City has a seating capacity of 5.\n"
     ]
    }
   ],
   "source": [
    "print(car.seating_capacity(5))"
   ]
  },
  {
   "cell_type": "code",
   "execution_count": null,
   "id": "9c77bec9-6be1-40c8-8103-e272afa4c6af",
   "metadata": {},
   "outputs": [],
   "source": []
  },
  {
   "cell_type": "markdown",
   "id": "cdbcf585-a789-4705-9102-96a8fadc95bd",
   "metadata": {},
   "source": [
    "Q3. What is multiple inheritance? Write a python code to demonstrate multiple inheritance."
   ]
  },
  {
   "cell_type": "markdown",
   "id": "1794767e-625d-41bf-b2cd-8e23f772a353",
   "metadata": {},
   "source": [
    "--> Multiple inheritance is a feature in OOPS where a class can inherit attributes and methods from multiple parent classes. The Child class can use the feautures of its parent class ."
   ]
  },
  {
   "cell_type": "code",
   "execution_count": 42,
   "id": "880333f1-5a30-405e-a1cf-dd044581c996",
   "metadata": {},
   "outputs": [],
   "source": [
    "class ElectricDevice:\n",
    "    def __init__(self, brand):\n",
    "        self.brand = brand\n",
    "\n",
    "    def turn_on(self):\n",
    "        print(f\"{self.brand} device is turned on.\")\n",
    "\n",
    "    def turn_off(self):\n",
    "        print(f\"{self.brand} device is turned off.\")\n",
    "\n",
    "        \n",
    "class Phone:\n",
    "    def __init__(self, brand):\n",
    "        self.brand = brand\n",
    "\n",
    "    def make_call(self):\n",
    "        print(f\"Making a call using {self.brand} phone.\")\n",
    "\n",
    "    def send_message(self):\n",
    "        print(f\"Sending a message using {self.brand} phone.\")\n",
    "\n",
    "        \n",
    "class SmartPhone(ElectricDevice, Phone):\n",
    "    def __init__(self, brand):\n",
    "        super().__init__(brand)\n",
    "\n",
    "    def browse_internet(self):\n",
    "        print(f\"{self.brand} smartphone is browsing the internet.\")\n"
   ]
  },
  {
   "cell_type": "code",
   "execution_count": 43,
   "id": "138eb402-cf3c-409e-9582-b4d1af34676b",
   "metadata": {},
   "outputs": [
    {
     "name": "stdout",
     "output_type": "stream",
     "text": [
      "Apple device is turned on.\n",
      "Making a call using Apple phone.\n",
      "Sending a message using Apple phone.\n",
      "Apple smartphone is browsing the internet.\n",
      "Apple device is turned off.\n"
     ]
    }
   ],
   "source": [
    "smartphone = SmartPhone(\"Apple\")\n",
    "smartphone.turn_on()\n",
    "smartphone.make_call()\n",
    "smartphone.send_message()\n",
    "smartphone.browse_internet()\n",
    "smartphone.turn_off()"
   ]
  },
  {
   "cell_type": "code",
   "execution_count": null,
   "id": "e805eb2c-92d6-4905-9b22-4923069d865a",
   "metadata": {},
   "outputs": [],
   "source": []
  },
  {
   "cell_type": "markdown",
   "id": "7d44d807-cc69-4b83-8331-d2c124a0fc83",
   "metadata": {},
   "source": [
    "Q4. What are getter and setter in python? Create a class and create a getter and a setter method in this\n",
    "class."
   ]
  },
  {
   "cell_type": "code",
   "execution_count": 46,
   "id": "2cf7c35d-20fc-411c-9256-d4523ed6e0c6",
   "metadata": {},
   "outputs": [],
   "source": [
    "class Person:\n",
    "    def __init__(self):\n",
    "        self._name = None\n",
    "\n",
    "    def get_name(self):\n",
    "        return self._name\n",
    "\n",
    "    def set_name(self, name):\n",
    "        self._name = name"
   ]
  },
  {
   "cell_type": "code",
   "execution_count": 47,
   "id": "691ebe92-b353-44e1-9ca6-5eead4649da5",
   "metadata": {},
   "outputs": [],
   "source": [
    "person = Person()\n",
    "person.set_name(\"Sarthak\")"
   ]
  },
  {
   "cell_type": "code",
   "execution_count": 48,
   "id": "8a06212c-b1be-412f-a131-0a5f1ffb1e0f",
   "metadata": {},
   "outputs": [
    {
     "name": "stdout",
     "output_type": "stream",
     "text": [
      "Sarthak\n"
     ]
    }
   ],
   "source": [
    "print(person.get_name()) "
   ]
  },
  {
   "cell_type": "code",
   "execution_count": null,
   "id": "f8b669e3-e130-4b5f-8fcb-28d5f2c51648",
   "metadata": {},
   "outputs": [],
   "source": []
  },
  {
   "cell_type": "markdown",
   "id": "2cbb4f23-a89d-4789-9816-d273f3e562b7",
   "metadata": {},
   "source": [
    "Q5.What is method overriding in python? Write a python code to demonstrate method overriding."
   ]
  },
  {
   "cell_type": "markdown",
   "id": "0a6d3692-a7eb-4915-9481-c66c976762a9",
   "metadata": {},
   "source": [
    "--> Methodd overriding is a feature in OOPs that allows a subclass to provide a different implementation of a method that is already defined in its parent class.\n",
    "\n",
    "--> It is done by calling the parent class inside the child class;\n"
   ]
  },
  {
   "cell_type": "code",
   "execution_count": 49,
   "id": "2783b3c1-096e-42e9-b6a8-bedc0cd07d2c",
   "metadata": {},
   "outputs": [
    {
     "name": "stdout",
     "output_type": "stream",
     "text": [
      "Animal souds\n",
      "Meow-meow\n",
      "Bhau-bhau\n"
     ]
    }
   ],
   "source": [
    "class Animal:\n",
    "    def make_sound(self):\n",
    "        print(\"Animal souds\")\n",
    "\n",
    "class Cat(Animal):\n",
    "    def make_sound(self):\n",
    "        print(\"Meow-meow\")\n",
    "\n",
    "class Dog(Animal):\n",
    "    def make_sound(self):\n",
    "        print(\"Bhau-bhau\")\n",
    "\n",
    "# Example usage:\n",
    "animal = Animal()\n",
    "animal.make_sound()  # Output: Generic animal sound\n",
    "\n",
    "cat = Cat()\n",
    "cat.make_sound()  # Output: Meow\n",
    "\n",
    "dog = Dog()\n",
    "dog.make_sound()  # Output: Woof\n"
   ]
  },
  {
   "cell_type": "code",
   "execution_count": null,
   "id": "ad0ffded-b90d-469f-863e-f1e2c617d3f5",
   "metadata": {},
   "outputs": [],
   "source": []
  }
 ],
 "metadata": {
  "kernelspec": {
   "display_name": "Python 3 (ipykernel)",
   "language": "python",
   "name": "python3"
  },
  "language_info": {
   "codemirror_mode": {
    "name": "ipython",
    "version": 3
   },
   "file_extension": ".py",
   "mimetype": "text/x-python",
   "name": "python",
   "nbconvert_exporter": "python",
   "pygments_lexer": "ipython3",
   "version": "3.10.8"
  }
 },
 "nbformat": 4,
 "nbformat_minor": 5
}

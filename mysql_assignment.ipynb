{
 "cells": [
  {
   "cell_type": "code",
   "execution_count": null,
   "id": "028c9127-e981-4d0d-bd75-5e48bcdca82a",
   "metadata": {},
   "outputs": [],
   "source": [
    "\n",
    "\n"
   ]
  },
  {
   "cell_type": "code",
   "execution_count": null,
   "id": "c8cc3b39-7a81-4399-9564-993ed3316e25",
   "metadata": {},
   "outputs": [],
   "source": [
    "## Q1. What is a database? Differentiate between SQL and NoSQL databases.\n",
    "\n",
    "A database is a structured collection of data that is organized and stored for efficient retrieval and manipulation. It provides a way to manage and store data in a structured format.\n",
    "\n",
    "1. SQL (Structured Query Language) databases are relational databases that use tables to store and organize data. They have a predefined schema, enforce data integrity through constraints, and use SQL for querying and manipulating data.\n",
    "\n",
    "2. NoSQL  databases, on the other hand, provide a flexible schema design and are not based on the traditional tabular relations. They can store and retrieve data in various formats like key-value pairs, documents, graphs, or wide-column stores. NoSQL databases offer high scalability and performance, making them suitable for handling large volumes of unstructured or semi-structured data.\n",
    "\n"
   ]
  },
  {
   "cell_type": "code",
   "execution_count": null,
   "id": "29436b95-7195-4b97-9301-2294df03f32e",
   "metadata": {},
   "outputs": [],
   "source": []
  },
  {
   "cell_type": "code",
   "execution_count": null,
   "id": "1ce6a509-cf92-48f9-a8e6-71aa30976e9a",
   "metadata": {},
   "outputs": [],
   "source": [
    "## Q2. What is DDL? Explain why CREATE, DROP, ALTER, and TRUNCATE are used with an example.\n",
    "\n",
    "DDL (Data Definition Language) is a subset of SQL used to define and manage the structure of a database and its objects. It includes operations like creating tables, altering their structure, dropping tables, etc.\n",
    "\n",
    "- CREATE: Used to create new database objects, such as tables, indexes, or views. For example:\n",
    "\n",
    "  \n",
    "  CREATE TABLE Employees (\n",
    "      id INT PRIMARY KEY,\n",
    "      name VARCHAR(50),\n",
    "      age INT\n",
    "  );"
   ]
  },
  {
   "cell_type": "code",
   "execution_count": null,
   "id": "287ee82f-922e-4c55-9f01-f9df7f7f810d",
   "metadata": {},
   "outputs": [],
   "source": []
  },
  {
   "cell_type": "code",
   "execution_count": null,
   "id": "1b5387cf-3297-4cb0-b608-ffb0622bdc75",
   "metadata": {},
   "outputs": [],
   "source": [
    "## Q3. What is DML? Explain INSERT, UPDATE, and DELETE with an example.\n",
    "\n",
    "DML (Data Manipulation Language) is a subset of SQL used to manipulate data within the database. It includes operations like inserting new records, updating existing records, and deleting records.\n",
    "\n",
    "- INSERT: Used to insert new records into a table. For example:\n",
    "\n",
    "  ```\n",
    "  INSERT INTO Employees (id, name, age) VALUES (1, 'Sarthak', 30);\n",
    "  ```\n",
    "\n",
    "- UPDATE: Used to modify existing records in a table. For example:\n",
    "\n",
    "  ```\n",
    "  UPDATE Employees SET age = 35 WHERE id = 1;\n",
    "  ```\n",
    "\n",
    "- DELETE: Used to remove records from a table. For example:\n",
    "\n",
    "  ```\n",
    "  DELETE FROM Employees WHERE id = 1;"
   ]
  },
  {
   "cell_type": "code",
   "execution_count": null,
   "id": "10eb4580-e133-4e3d-a72d-18a438184572",
   "metadata": {},
   "outputs": [],
   "source": []
  },
  {
   "cell_type": "code",
   "execution_count": null,
   "id": "d43eecd8-193f-4db6-8ae8-9d0465cda106",
   "metadata": {},
   "outputs": [],
   "source": [
    "## Q4. What is DQL? Explain SELECT with an example.\n",
    "\n",
    "DQL (Data Query Language) is a subset of SQL used to query and retrieve data from a database.\n",
    "\n",
    "- SELECT: Used to retrieve data from one or more tables. For example:\n",
    "\n",
    "  ```\n",
    "  SELECT * FROM Employees;\n",
    "  ```\n",
    "\n",
    "  This query retrieves all columns (`*`) from the `Employees` table."
   ]
  },
  {
   "cell_type": "code",
   "execution_count": null,
   "id": "a07e5577-7b13-44d0-82b4-7476659915c6",
   "metadata": {},
   "outputs": [],
   "source": []
  },
  {
   "cell_type": "code",
   "execution_count": null,
   "id": "0e2d3374-8dcb-4b3b-bee9-05c99b5e1abf",
   "metadata": {},
   "outputs": [],
   "source": [
    "## Q5. Explain Primary Key and Foreign Key.\n",
    "\n",
    "- Primary Key: A primary key is a column or a set of columns that uniquely identifies each record in a table. It ensures the uniqueness and integrity of the data in the table. A primary key column cannot contain null values.\n",
    "\n",
    "- Foreign Key: A foreign key is a column or a set of columns in a table that refers to the primary key of another table. It establishes a relationship between two tables, enforcing referential integrity. The foreign key column can have null values, indicating the absence of a relationship.\n",
    "\n"
   ]
  },
  {
   "cell_type": "code",
   "execution_count": null,
   "id": "f3df5032-ecd1-4041-b691-fb89cc5c0bef",
   "metadata": {},
   "outputs": [],
   "source": []
  },
  {
   "cell_type": "code",
   "execution_count": null,
   "id": "011664ee-815c-4f42-9d5a-84499b2d64e8",
   "metadata": {},
   "outputs": [],
   "source": [
    "## Q6. Write a Python code to connect MySQL to Python. Explain the cursor() and execute() method.\n",
    "\n",
    "```pyt\n",
    "import mysql.connector\n",
    "\n",
    "# Establishing am connection\n",
    "sar = mysql.connector.connect(\n",
    "    host=\"localhost\",\n",
    "    user=\"username\",\n",
    "    password=\"password\",\n",
    "    database=\"database_name\"\n",
    ")\n",
    "\n",
    "\n",
    "# Creating a cursor object\n",
    "cursor = sar.cursor()\n",
    "\n",
    "# Executing SL queries\n",
    "query = \"SELECT * FROM Employees\"\n",
    "cursor.execute(query)\n",
    "\n",
    "# Fetching the result\n",
    "results = cursor.fetchall()\n",
    "for row in results:\n",
    "    print(row)\n",
    "\n",
    "# Closing the cursor and connection\n",
    "cursor.close()\n",
    "sar.close()\n",
    "```\n",
    "\n",
    "- `cursor()`: The `cursor()` method creates a cursor object, which allows you to execute SQL queries and fetch the results.\n",
    "\n",
    "- `execute()`: The `execute()` method is used to execute SQL queries. You pass the query as a parameter to this method.\n",
    "\n"
   ]
  },
  {
   "cell_type": "code",
   "execution_count": null,
   "id": "d80dd214-e885-43c1-89bd-093c34062d60",
   "metadata": {},
   "outputs": [],
   "source": []
  },
  {
   "cell_type": "code",
   "execution_count": null,
   "id": "7a84723c-0a24-4f9a-bfca-b4ce8f7238a3",
   "metadata": {},
   "outputs": [],
   "source": [
    "## Q7. Give the order of execution of SQL clauses in an SQL query.\n",
    "\n",
    "The order of execution for SQL clauses in a query is as follows:\n",
    "\n",
    "1. FROM\n",
    "2. JOIN\n",
    "3. WHERE\n",
    "4. GROUP BY\n",
    "5. HAVING\n",
    "6. SELECT\n",
    "7. DISTINCT\n",
    "8. ORDER BY\n",
    "9. LIMIT\n",
    "10. OFFSET"
   ]
  },
  {
   "cell_type": "code",
   "execution_count": null,
   "id": "41a35525-67cf-4d32-b9ae-89bca6acd58e",
   "metadata": {},
   "outputs": [],
   "source": []
  }
 ],
 "metadata": {
  "kernelspec": {
   "display_name": "Python 3 (ipykernel)",
   "language": "python",
   "name": "python3"
  },
  "language_info": {
   "codemirror_mode": {
    "name": "ipython",
    "version": 3
   },
   "file_extension": ".py",
   "mimetype": "text/x-python",
   "name": "python",
   "nbconvert_exporter": "python",
   "pygments_lexer": "ipython3",
   "version": "3.10.8"
  }
 },
 "nbformat": 4,
 "nbformat_minor": 5
}

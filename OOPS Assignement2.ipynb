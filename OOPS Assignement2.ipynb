{
 "cells": [
  {
   "cell_type": "markdown",
   "id": "61c50089-1790-4d29-b96b-cb51b8b3f805",
   "metadata": {},
   "source": [
    "Q1. Explain Class and Object with respect to Object-Oriented Programming. Give a suitable example."
   ]
  },
  {
   "cell_type": "code",
   "execution_count": 1,
   "id": "46cad636-dc6e-46d2-b1df-7bbee072e6b4",
   "metadata": {},
   "outputs": [],
   "source": [
    "class Car:\n",
    "    def __init__(self, make, model):\n",
    "        self.make = make\n",
    "        self.model = model\n",
    "\n",
    "    def drive(self):\n",
    "        print(f\"Driving the {self.make} {self.model}\")\n",
    "\n",
    "\n",
    "car1 = Car(\"Honda\", \"City\")\n",
    "car2 = Car(\"Suzuki\", \"Baleno\")"
   ]
  },
  {
   "cell_type": "code",
   "execution_count": 2,
   "id": "5158c9a3-008e-4f1f-9dbd-174a0c8fcfb4",
   "metadata": {},
   "outputs": [
    {
     "name": "stdout",
     "output_type": "stream",
     "text": [
      "Honda City\n",
      "Driving the Honda City\n",
      "Suzuki Baleno\n"
     ]
    }
   ],
   "source": [
    "\n",
    "print(car1.make, car1.model)  \n",
    "car1.drive() \n",
    "\n",
    "print(car2.make, car2.model)  \n"
   ]
  },
  {
   "cell_type": "markdown",
   "id": "87ad26a9-0d22-41c3-b37d-7e0eca5078ac",
   "metadata": {},
   "source": [
    "In this example, the Car class represents a car and has attributes like make and model, as well as a behavior defined by the drive() method. \n",
    "We create two objects car1 and car2 based on the Car class. \n",
    "Each object has its own make and model attributes and can perform the drive() method, but they are distinct instances based on the class blueprint."
   ]
  },
  {
   "cell_type": "code",
   "execution_count": null,
   "id": "1a36a295-1b0b-469f-be1a-978e0146b1da",
   "metadata": {},
   "outputs": [],
   "source": []
  },
  {
   "cell_type": "markdown",
   "id": "2e9d0f99-ee48-471c-8fea-f2fcfdbd463d",
   "metadata": {},
   "source": [
    "Q2. Name the four pillars of OOPs."
   ]
  },
  {
   "cell_type": "markdown",
   "id": "723daf74-f78a-4c14-b1da-63e8951f05a3",
   "metadata": {},
   "source": [
    "1. Encapsulation\n",
    "\n",
    "2. Inheritance\n",
    "\n",
    "3. Abstraction\n",
    "\n",
    "4. Polymorphism"
   ]
  },
  {
   "cell_type": "markdown",
   "id": "319d8ef2-1004-4984-9041-234c43adc0cb",
   "metadata": {},
   "source": [
    "Q3. Explain why the __init__() function is used. Give a suitable example."
   ]
  },
  {
   "cell_type": "markdown",
   "id": "fe6e16ca-bc15-4538-a566-ebcd5c6fd3a2",
   "metadata": {},
   "source": [
    "1. ' init() ' function is used in OOPs to initialize the attributes of an object when it is created from a class. It is called a constructor because it helps  initializing the object."
   ]
  },
  {
   "cell_type": "code",
   "execution_count": 3,
   "id": "bfd2de88-e550-4ea4-99f4-8a4633501dd3",
   "metadata": {},
   "outputs": [
    {
     "name": "stdout",
     "output_type": "stream",
     "text": [
      "Name: Sarthak, Age: 20\n"
     ]
    }
   ],
   "source": [
    "class Person:\n",
    "    def __init__(self, name, age):\n",
    "        self.name = name\n",
    "        self.age = age\n",
    "\n",
    "    def display_info(self):\n",
    "        print(f\"Name: {self.name}, Age: {self.age}\")\n",
    "\n",
    "\n",
    "person1 = Person(\"Sarthak\", 20)\n",
    "person1.display_info()\n"
   ]
  },
  {
   "cell_type": "code",
   "execution_count": null,
   "id": "b4e8f64e-058b-40c3-b5cf-91ffa1c2bd91",
   "metadata": {},
   "outputs": [],
   "source": []
  },
  {
   "cell_type": "markdown",
   "id": "0a93926d-d844-4b47-ba4a-0127fed89323",
   "metadata": {},
   "source": [
    "Q4. Why self is used in OOPs?"
   ]
  },
  {
   "cell_type": "markdown",
   "id": "fff2b065-cb34-4cdb-8aa0-9aae0d576605",
   "metadata": {},
   "source": [
    "1.  \"self\" is a reference to the instance of a class. We can name it any thing but it should be called with the same other instances with the same name."
   ]
  },
  {
   "cell_type": "code",
   "execution_count": null,
   "id": "0f47fbe5-6f8d-44bd-b665-8b912b408485",
   "metadata": {},
   "outputs": [],
   "source": []
  },
  {
   "cell_type": "markdown",
   "id": "9e463c8b-c62d-4c6b-a4d0-c02220c1ebd6",
   "metadata": {},
   "source": [
    "Q5. What is inheritance? Give an example for each type of inheritance."
   ]
  },
  {
   "cell_type": "markdown",
   "id": "92194dfb-c125-4e57-94d8-5f15f1bcf888",
   "metadata": {},
   "source": [
    "1. Inheritances is porperty in OOPs that allows a class (called a child or derived c;ass) to inherit properties and behaviors from another class"
   ]
  },
  {
   "cell_type": "code",
   "execution_count": 4,
   "id": "d4ed58e3-22be-4b4a-abf2-0aeaaa0061f5",
   "metadata": {},
   "outputs": [
    {
     "name": "stdout",
     "output_type": "stream",
     "text": [
      "Eating...\n",
      "Barking...\n"
     ]
    }
   ],
   "source": [
    "# example of single ingeritance \n",
    "'''\n",
    " In single inheritance, a subclass inherits from a single superclass.\n",
    "'''\n",
    "class Animal:\n",
    "    def eat(self):\n",
    "        print(\"Eating...\")\n",
    "\n",
    "class Dog(Animal):\n",
    "    def bark(self):\n",
    "        print(\"Barking...\")\n",
    "\n",
    "dog = Dog()\n",
    "dog.eat()  \n",
    "dog.bark() \n"
   ]
  },
  {
   "cell_type": "code",
   "execution_count": 6,
   "id": "fc23f352-5d89-4241-ae89-afcd1368fff3",
   "metadata": {},
   "outputs": [
    {
     "name": "stdout",
     "output_type": "stream",
     "text": [
      "Parent1 here, Hello\n",
      "Parent2 here, Hello\n"
     ]
    }
   ],
   "source": [
    "# example of multiple inheritance \n",
    "'''\n",
    "Multiple inheritance allows a subclass to inherit from multiple superclasses. It allows a aclass to combine attributes and behaviors from multiple sources.\n",
    "'''\n",
    "\n",
    "class Parent1:\n",
    "    def method1(self):\n",
    "        print(\"Parent1 here, Hello\")\n",
    "\n",
    "class Parent2:\n",
    "    def method2(self):\n",
    "        print(\"Parent2 here, Hello\")\n",
    "\n",
    "class Kid(Parent1, Parent2):\n",
    "    pass\n",
    "\n",
    "child = Kid()\n",
    "child.method1()  \n",
    "child.method2()\n"
   ]
  },
  {
   "cell_type": "code",
   "execution_count": 8,
   "id": "ae4d6e32-bb93-43c2-b27b-31b9dbdc8806",
   "metadata": {},
   "outputs": [
    {
     "name": "stdout",
     "output_type": "stream",
     "text": [
      "Eating now\n",
      "Barking now\n",
      "Sleepig now \n"
     ]
    }
   ],
   "source": [
    "# example of multilevel inheritance\n",
    "\n",
    "'''\n",
    "Multilevel inheritance involves creating a chain of inheritance where a subclass becomes the superclass for another subclas.\n",
    "'''\n",
    "\n",
    "class Animal:\n",
    "    def eat(self):\n",
    "        print(\"Eating now\")\n",
    "\n",
    "class Dog(Animal):\n",
    "    def bark(self):\n",
    "        print(\"Barking now\")\n",
    "\n",
    "class Labrador(Dog):\n",
    "    def sleep(self):\n",
    "        print(\"Sleepig now \")\n",
    "\n",
    "labrador = Labrador()\n",
    "labrador.eat() \n",
    "labrador.bark()  \n",
    "labrador.sleep() \n",
    "\n"
   ]
  },
  {
   "cell_type": "code",
   "execution_count": null,
   "id": "a5ae3bd1-0d39-40e1-846d-5aece90675f2",
   "metadata": {},
   "outputs": [],
   "source": []
  }
 ],
 "metadata": {
  "kernelspec": {
   "display_name": "Python 3 (ipykernel)",
   "language": "python",
   "name": "python3"
  },
  "language_info": {
   "codemirror_mode": {
    "name": "ipython",
    "version": 3
   },
   "file_extension": ".py",
   "mimetype": "text/x-python",
   "name": "python",
   "nbconvert_exporter": "python",
   "pygments_lexer": "ipython3",
   "version": "3.10.8"
  }
 },
 "nbformat": 4,
 "nbformat_minor": 5
}

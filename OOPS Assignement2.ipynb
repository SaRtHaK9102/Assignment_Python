{
 "cells": [
  {
   "cell_type": "markdown",
   "id": "61c50089-1790-4d29-b96b-cb51b8b3f805",
   "metadata": {},
   "source": [
    "Q1. Explain Class and Object with respect to Object-Oriented Programming. Give a suitable example."
   ]
  },
  {
   "cell_type": "markdown",
   "id": "87ad26a9-0d22-41c3-b37d-7e0eca5078ac",
   "metadata": {},
   "source": [
    "1. In OOPS, a Class is blueprint that defines the properties and behaviour of an onject of thatt class should possess. \n",
    "\n",
    "2. Object is an instance of a class, representing a specif body or concept in the class. \n",
    "\n",
    "3. EG:\n",
    "\n",
    "4. --> Lets consider a class called \"Car\"  / The Car class would define the properties of a car, such as its color, brand, and model. It would also define the behaviors or methods associated with a car, such as starting the engine, accelerating, and braking. An object of the Car class could be created, representing a specific car, like a red Toyota Camry. This object would have its own values for color, brand, and model, and could perform the defined behaviors of the Car class."
   ]
  },
  {
   "cell_type": "markdown",
   "id": "2e9d0f99-ee48-471c-8fea-f2fcfdbd463d",
   "metadata": {},
   "source": [
    "Q2. Name the four pillars of OOPs."
   ]
  },
  {
   "cell_type": "markdown",
   "id": "723daf74-f78a-4c14-b1da-63e8951f05a3",
   "metadata": {},
   "source": [
    "1. Encapsulation: It is the bundling of data and related methods into a single unit \n",
    "\n",
    "2. Inheritance: It is a mechanism that allows a class (called a child or deriveds) to inherit properties and behaviors from another class (called parent or base class)\n",
    "\n",
    "3. Abstraction: It involves simplifying complex systems by representing the relevant features and ignoring unnecessary details.\n",
    "\n",
    "\n",
    "4. Polymorphism: It refers to the ability of objects to take on multiple forms or exhibit different behaviors based on the context."
   ]
  },
  {
   "cell_type": "markdown",
   "id": "319d8ef2-1004-4984-9041-234c43adc0cb",
   "metadata": {},
   "source": [
    "Q3. Explain why the __init__() function is used. Give a suitable example."
   ]
  },
  {
   "cell_type": "markdown",
   "id": "fe6e16ca-bc15-4538-a566-ebcd5c6fd3a2",
   "metadata": {},
   "source": [
    "1. ' init() ' function is used in OOPs to initialize the attributes of an object when it is created from a class. It is called a constructor because it helps  initializing the object."
   ]
  },
  {
   "cell_type": "markdown",
   "id": "0a93926d-d844-4b47-ba4a-0127fed89323",
   "metadata": {},
   "source": [
    "Q4. Why self is used in OOPs?"
   ]
  },
  {
   "cell_type": "markdown",
   "id": "fff2b065-cb34-4cdb-8aa0-9aae0d576605",
   "metadata": {},
   "source": [
    "1.  \"self\" is a reference to the instance of a class. We can name it any thing but it should be called with the same other instances with the same name."
   ]
  },
  {
   "cell_type": "markdown",
   "id": "9e463c8b-c62d-4c6b-a4d0-c02220c1ebd6",
   "metadata": {},
   "source": [
    "Q5. What is inheritance? Give an example for each type of inheritance."
   ]
  },
  {
   "cell_type": "markdown",
   "id": "92194dfb-c125-4e57-94d8-5f15f1bcf888",
   "metadata": {},
   "source": [
    "1. Inheritances is porperty in OOPs that allows a class (called a child or derived c;ass) to inherit properties and behaviors from another class"
   ]
  },
  {
   "cell_type": "code",
   "execution_count": null,
   "id": "d4ed58e3-22be-4b4a-abf2-0aeaaa0061f5",
   "metadata": {},
   "outputs": [],
   "source": []
  }
 ],
 "metadata": {
  "kernelspec": {
   "display_name": "Python 3 (ipykernel)",
   "language": "python",
   "name": "python3"
  },
  "language_info": {
   "codemirror_mode": {
    "name": "ipython",
    "version": 3
   },
   "file_extension": ".py",
   "mimetype": "text/x-python",
   "name": "python",
   "nbconvert_exporter": "python",
   "pygments_lexer": "ipython3",
   "version": "3.10.8"
  }
 },
 "nbformat": 4,
 "nbformat_minor": 5
}

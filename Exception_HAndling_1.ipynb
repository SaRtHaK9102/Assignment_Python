{
 "cells": [
  {
   "cell_type": "markdown",
   "id": "b1102b7e-8169-4350-b687-4a7395668278",
   "metadata": {},
   "source": [
    "Q1. What is an Exception in python? Write the difference betweeen Exceptions and Syntax error.\n"
   ]
  },
  {
   "cell_type": "markdown",
   "id": "003b5862-24b2-4fc7-8413-36644d33efb6",
   "metadata": {},
   "source": [
    "--> [Exception] is an event which happens during the execution of the program which disrupts the flow of the execution of the program. The program then stops working and an Exception is raised."
   ]
  },
  {
   "cell_type": "markdown",
   "id": "fbe79711-4ece-4699-a6fb-1b612a443436",
   "metadata": {},
   "source": [
    "--> [Exception] : Occurs during execution of the program\n",
    "2 . Can be fixed by using 'try-except-finally' bloclks.\n",
    "3 . Allows the progra to continue running after that\n",
    "\n",
    "\n",
    "\n",
    "\n",
    "--> [Syntax Error] : Is identified during running the program\n",
    "2 . It is caused by violating the programing langauge rules \n",
    "3 . It prevents the program to run."
   ]
  },
  {
   "cell_type": "code",
   "execution_count": null,
   "id": "17578201-4ee8-4252-836c-e793a69cd4d4",
   "metadata": {},
   "outputs": [],
   "source": []
  },
  {
   "cell_type": "markdown",
   "id": "ca12af10-fda2-4a8b-ba1b-53aa64c53b2a",
   "metadata": {},
   "source": [
    "Q2. What happens when an Exception is not Handled? Explain with an Example"
   ]
  },
  {
   "cell_type": "markdown",
   "id": "d4aec307-f67c-4f94-b060-ed9bbaafe154",
   "metadata": {},
   "source": [
    "--> When an Exception is raised, it stops the program from running abruptly. It also mentions the [Exception type] and [Error] that caused the Exception to raise "
   ]
  },
  {
   "cell_type": "code",
   "execution_count": 2,
   "id": "b6ec3f6f-0c82-4a56-ab08-c2645e022b31",
   "metadata": {},
   "outputs": [],
   "source": [
    "# Example\n",
    "\n",
    "def num_div(a,b) :\n",
    "    div = a/b\n",
    "    return div"
   ]
  },
  {
   "cell_type": "code",
   "execution_count": 4,
   "id": "8c219c20-6105-4e8f-a2be-d039541d4ca2",
   "metadata": {},
   "outputs": [
    {
     "ename": "ZeroDivisionError",
     "evalue": "division by zero",
     "output_type": "error",
     "traceback": [
      "\u001b[0;31m---------------------------------------------------------------------------\u001b[0m",
      "\u001b[0;31mZeroDivisionError\u001b[0m                         Traceback (most recent call last)",
      "Cell \u001b[0;32mIn[4], line 1\u001b[0m\n\u001b[0;32m----> 1\u001b[0m num \u001b[38;5;241m=\u001b[39m \u001b[43mnum_div\u001b[49m\u001b[43m(\u001b[49m\u001b[38;5;241;43m10\u001b[39;49m\u001b[43m,\u001b[49m\u001b[38;5;241;43m0\u001b[39;49m\u001b[43m)\u001b[49m\n",
      "Cell \u001b[0;32mIn[2], line 4\u001b[0m, in \u001b[0;36mnum_div\u001b[0;34m(a, b)\u001b[0m\n\u001b[1;32m      3\u001b[0m \u001b[38;5;28;01mdef\u001b[39;00m \u001b[38;5;21mnum_div\u001b[39m(a,b) :\n\u001b[0;32m----> 4\u001b[0m     div \u001b[38;5;241m=\u001b[39m \u001b[43ma\u001b[49m\u001b[38;5;241;43m/\u001b[39;49m\u001b[43mb\u001b[49m\n\u001b[1;32m      5\u001b[0m     \u001b[38;5;28;01mreturn\u001b[39;00m div\n",
      "\u001b[0;31mZeroDivisionError\u001b[0m: division by zero"
     ]
    }
   ],
   "source": [
    "num = num_div(10,0)"
   ]
  },
  {
   "cell_type": "code",
   "execution_count": null,
   "id": "cff26291-04f8-4533-aaee-a762b90153a8",
   "metadata": {},
   "outputs": [],
   "source": [
    "'''\n",
    "We know its not possible to divide a number with 0\n",
    "Therefore it raised an Exception here and stopped the \n",
    "Program abruptyl and also mentioned the type of the \n",
    "Exception.\n",
    "\n",
    "'''"
   ]
  },
  {
   "cell_type": "code",
   "execution_count": null,
   "id": "4edcb4cc-8369-44b1-94ae-d61c49e5c6d0",
   "metadata": {},
   "outputs": [],
   "source": []
  },
  {
   "cell_type": "markdown",
   "id": "b3acede6-0590-447d-9b32-726fbb994ca1",
   "metadata": {},
   "source": [
    "Q3. Which Python statements are used to catch and handle an Exception? Explain with an example"
   ]
  },
  {
   "cell_type": "markdown",
   "id": "2c9b201b-3e59-4ac9-935c-6acbc53c9039",
   "metadata": {},
   "source": [
    "-->[try-except] statement is used to catch and handle exceptions. The try block contains the code that might raise an exception, and the except block specifies the code to be executed if a specific exception is encountered."
   ]
  },
  {
   "cell_type": "code",
   "execution_count": 7,
   "id": "99197440-6572-4b8e-a332-54edce8edfd1",
   "metadata": {},
   "outputs": [],
   "source": [
    "# Example\n",
    "\n",
    "def num_div(a,b) :\n",
    "    try:\n",
    "        div = a/b\n",
    "        return div\n",
    "    except ZeroDivisionError:\n",
    "        print(\"Error: Zero Division Error\")"
   ]
  },
  {
   "cell_type": "code",
   "execution_count": 8,
   "id": "42501a09-8491-409e-a3df-232d9cfd3de3",
   "metadata": {},
   "outputs": [
    {
     "name": "stdout",
     "output_type": "stream",
     "text": [
      "Error: Zero Division Error\n"
     ]
    }
   ],
   "source": [
    "num = num_div(9,0)"
   ]
  },
  {
   "cell_type": "code",
   "execution_count": null,
   "id": "d9aae3a4-1af6-4edb-b460-5a13289f6a87",
   "metadata": {},
   "outputs": [],
   "source": []
  },
  {
   "cell_type": "markdown",
   "id": "89967bed-3e45-42ab-9c45-0e08fdd660e2",
   "metadata": {},
   "source": [
    "Q4 Explain with an Example"
   ]
  },
  {
   "cell_type": "markdown",
   "id": "5335ffde-0280-4122-a822-830d57ef4578",
   "metadata": {},
   "source": [
    "# a. try and else\n",
    "\n",
    "The try-except-else statement allows you to specify additional code to be executed if no exceptions occur in the try block. The else block is optional and follows the except block."
   ]
  },
  {
   "cell_type": "code",
   "execution_count": 9,
   "id": "1b99d65a-d25b-4216-968b-f2f1fee421f9",
   "metadata": {},
   "outputs": [
    {
     "name": "stdout",
     "output_type": "stream",
     "text": [
      "The result is: 5.0\n"
     ]
    }
   ],
   "source": [
    "#example of TRY and ELSE\n",
    "\n",
    "try:\n",
    "    result = 10 / 2\n",
    "except ZeroDivisionError:\n",
    "    print(\"Error: Division by zero is not allowed.\")\n",
    "else:\n",
    "    print(\"The result is: \", result)\n"
   ]
  },
  {
   "cell_type": "markdown",
   "id": "5ba5ab4d-bc40-4944-b998-4371fb7b7de8",
   "metadata": {},
   "source": [
    "# b. Finally\n",
    "\n",
    "--> The finally block is used to define code that will be executed regardless of whether an exception occurred or not."
   ]
  },
  {
   "cell_type": "code",
   "execution_count": 11,
   "id": "1cc59003-3a60-450b-aa03-b4af659eacc1",
   "metadata": {},
   "outputs": [
    {
     "name": "stdout",
     "output_type": "stream",
     "text": [
      "Finally blok: This will always be executed no matter what \n"
     ]
    }
   ],
   "source": [
    "# example of Finally vlock\n",
    "\n",
    "try:\n",
    "    result = 10 / 2\n",
    "except ZeroDivisionError:\n",
    "    print(\"Error: Zerp Divisiond error\")\n",
    "finally:\n",
    "    print(\"Finally blok: This will always be executed no matter what \")"
   ]
  },
  {
   "cell_type": "markdown",
   "id": "c6f97af4-7445-488e-b86c-1c8fb7ce1581",
   "metadata": {},
   "source": [
    "# c. Raise\n",
    "\n",
    "--> Raise statement is used to raise an exception, that allows us to create custom exceptuons or raise built-in exceptions on specific condition"
   ]
  },
  {
   "cell_type": "code",
   "execution_count": 12,
   "id": "ef883020-f442-41e3-9ace-2484a3f63f30",
   "metadata": {},
   "outputs": [
    {
     "name": "stdout",
     "output_type": "stream",
     "text": [
      "Error: Cannot calculate square root of a negative number.\n"
     ]
    }
   ],
   "source": [
    "#example of Raise \n",
    "\n",
    "def calculate_square_root(number):\n",
    "    if number < 0:\n",
    "        raise ValueError(\"Error: Cannot calculate square root of a negative number \")\n",
    "    else:\n",
    "        return number ** 0.5\n",
    "\n",
    "try:\n",
    "    result = calculate_square_root(-1)\n",
    "    print(\"Square root ; \", result)\n",
    "except ValueError as e:\n",
    "    print(e)\n",
    "\n"
   ]
  },
  {
   "cell_type": "code",
   "execution_count": null,
   "id": "0defc562-4413-4046-9dab-fd920aa13ae7",
   "metadata": {},
   "outputs": [],
   "source": []
  },
  {
   "cell_type": "markdown",
   "id": "19ff35f6-cac5-4f08-96eb-d04198489f17",
   "metadata": {},
   "source": [
    "Q5 What are Custom Exceptions in Python? Why do we need Custom Exceptions? Exaplin with and exwmple"
   ]
  },
  {
   "cell_type": "markdown",
   "id": "2b80102e-e729-4aaa-af5e-be8d2e640c6b",
   "metadata": {},
   "source": [
    "--> Custom exceptions in Python are exceptions that we create ourselves to handle specific situations or errors in our code."
   ]
  },
  {
   "cell_type": "markdown",
   "id": "c65ee810-a3a9-43b0-a289-5cc49b6cc5fc",
   "metadata": {},
   "source": [
    "-->  We create them when we want to handle specific problems in our code in a clear and meaningful way"
   ]
  },
  {
   "cell_type": "code",
   "execution_count": 13,
   "id": "f5e117cd-7b20-40c7-adb9-f14199f5808c",
   "metadata": {},
   "outputs": [
    {
     "name": "stdout",
     "output_type": "stream",
     "text": [
      "Error: Cannot calculate square root of a negative number \n"
     ]
    }
   ],
   "source": [
    "# example\n",
    "\n",
    "\n",
    "def calculate_square_root(number):\n",
    "    if number < 0:\n",
    "        raise ValueError(\"Error: Cannot calculate square root of a negative number \")\n",
    "    else:\n",
    "        return number ** 0.5\n",
    "\n",
    "try:\n",
    "    result = calculate_square_root(-1)\n",
    "    print(\"Square root ; \", result)\n",
    "except ValueError as e:\n",
    "    print(e)\n"
   ]
  },
  {
   "cell_type": "code",
   "execution_count": null,
   "id": "428803e5-fbde-446d-88df-a39474ebf53b",
   "metadata": {},
   "outputs": [],
   "source": []
  },
  {
   "cell_type": "markdown",
   "id": "d5101559-ea14-45cc-888a-4d22e705ae1d",
   "metadata": {},
   "source": [
    "Q6 Create a custom exception class. Use this class handle and exception"
   ]
  },
  {
   "cell_type": "code",
   "execution_count": 15,
   "id": "10a787ad-ec32-4821-92cb-a8716fa0ddd2",
   "metadata": {},
   "outputs": [
    {
     "name": "stdout",
     "output_type": "stream",
     "text": [
      "Error; Age cannot be negative.\n"
     ]
    }
   ],
   "source": [
    "#examlpe\n",
    "\n",
    "class CustomException(Exception):\n",
    "    pass\n",
    "try:\n",
    "    age = -5\n",
    "    if age < 0:\n",
    "        raise CustomException(\"Error; Age cannot be negative.\")\n",
    "except CustomException as e:\n",
    "    print(e)\n",
    "\n",
    "\n"
   ]
  },
  {
   "cell_type": "code",
   "execution_count": null,
   "id": "f5625285-025b-4606-8778-d220cb618481",
   "metadata": {},
   "outputs": [],
   "source": []
  }
 ],
 "metadata": {
  "kernelspec": {
   "display_name": "Python 3 (ipykernel)",
   "language": "python",
   "name": "python3"
  },
  "language_info": {
   "codemirror_mode": {
    "name": "ipython",
    "version": 3
   },
   "file_extension": ".py",
   "mimetype": "text/x-python",
   "name": "python",
   "nbconvert_exporter": "python",
   "pygments_lexer": "ipython3",
   "version": "3.10.8"
  }
 },
 "nbformat": 4,
 "nbformat_minor": 5
}

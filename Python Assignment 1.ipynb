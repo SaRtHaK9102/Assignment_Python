{
 "cells": [
  {
   "cell_type": "markdown",
   "id": "50ab736f-3da1-4879-a331-544e80a90247",
   "metadata": {},
   "source": [
    "Q1. Create one variable containing following type of data:\n",
    "(i) string\n",
    "(ii) list\n",
    "(iii) float\n",
    "(iv) tuple"
   ]
  },
  {
   "cell_type": "code",
   "execution_count": 3,
   "id": "98c83d0e-ed4b-4ec9-bdf6-99cd8b236942",
   "metadata": {},
   "outputs": [
    {
     "name": "stdout",
     "output_type": "stream",
     "text": [
      "<class 'str'>\n",
      "<class 'list'>\n",
      "<class 'float'>\n",
      "<class 'tuple'>\n"
     ]
    }
   ],
   "source": [
    "a = 'My name is Sarthak and I am from Delhi'\n",
    "print(type(a))\n",
    "\n",
    "b = ['a', 'hello', 123, 123.45, \"Hello everyone\"]\n",
    "print(type(b))\n",
    "\n",
    "c = 132.3242\n",
    "print(type(c))\n",
    "\n",
    "d =  (\"apple\", \"banana\", \"cherry\", 23)\n",
    "print(type(d))"
   ]
  },
  {
   "cell_type": "markdown",
   "id": "4a7a23b3-a8a9-491b-9f4f-14ab29e79d29",
   "metadata": {},
   "source": [
    "Q2. Given are some following variables containing data:\n",
    "(i) var1 = ‘ ‘\n",
    "(ii) var2 = ‘[ DS , ML , Python]’\n",
    "(iii) var3 = [ ‘DS’ , ’ML’ , ‘Python’ ]\n",
    "(iv) var4 = 1.\n",
    "What will be the data type of the above given variable."
   ]
  },
  {
   "cell_type": "code",
   "execution_count": null,
   "id": "4c8f772a-5024-4a42-a0d7-c4025fe50629",
   "metadata": {},
   "outputs": [],
   "source": [
    "(i) str\n",
    "(ii) list\n",
    "(iii) float \n",
    "(iv) int"
   ]
  },
  {
   "cell_type": "markdown",
   "id": "3da4b165-cf5c-4353-92ff-fdcd11c3a06a",
   "metadata": {},
   "source": [
    "Q3. Explain the use of the following operators using an example:\n",
    "(i) /\n",
    "(ii) %\n",
    "(iii) //\n",
    "(iv) **"
   ]
  },
  {
   "cell_type": "code",
   "execution_count": 8,
   "id": "b150fc8b-7f55-40db-a80c-c17ba140e9ad",
   "metadata": {},
   "outputs": [
    {
     "name": "stdout",
     "output_type": "stream",
     "text": [
      "2.5\n",
      "1\n",
      "2\n",
      "16\n"
     ]
    }
   ],
   "source": [
    "# (i) The / operator is used for division\n",
    "print(5 / 2)\n",
    "\n",
    "# (ii) The % operator is used for modulus. It returns the remainder of the division of the first operand by the second operand\n",
    "print(5%2)\n",
    "\n",
    "#(iii) The // operator is used for floor division. It divides the first operand by the second operand and returns the integer part of the resul\n",
    "print(5 // 2)\n",
    "\n",
    "# (iv) The ** operator is used for exponentiation. It raises the first operand to the power of the second operans\n",
    "print(2**4)\n",
    "\n"
   ]
  },
  {
   "cell_type": "markdown",
   "id": "97a789fc-8311-46ad-94f3-9da2d7db0947",
   "metadata": {},
   "source": [
    "Q4. Create a list of length 10 of your choice containing multiple types of data. Using for loop print the\n",
    "element and its data type."
   ]
  },
  {
   "cell_type": "code",
   "execution_count": 9,
   "id": "6d200c4b-6f38-4168-82c6-bc42e911fb57",
   "metadata": {},
   "outputs": [
    {
     "name": "stdout",
     "output_type": "stream",
     "text": [
      "<class 'int'>\n",
      "<class 'int'>\n",
      "<class 'str'>\n",
      "<class 'float'>\n",
      "<class 'str'>\n",
      "<class 'str'>\n",
      "<class 'bool'>\n",
      "<class 'bool'>\n",
      "<class 'int'>\n",
      "<class 'int'>\n",
      "<class 'int'>\n"
     ]
    }
   ],
   "source": [
    "l1 = [12,13,\"hello\",12.32, \"ok hi\", \"mango\", False, True, 9, 10,69]\n",
    "\n",
    "for i in l1:\n",
    "    print(type(i))"
   ]
  },
  {
   "cell_type": "markdown",
   "id": "6e04534a-9cd3-4605-a849-08e07bae1979",
   "metadata": {},
   "source": [
    "Q5. Using a while loop, verify if the number A is purely divisible by number B and if so then how many\n",
    "times it can be divisible."
   ]
  },
  {
   "cell_type": "code",
   "execution_count": 26,
   "id": "7557fb16-49bf-44af-bc55-a37cf76a2eff",
   "metadata": {},
   "outputs": [
    {
     "name": "stdout",
     "output_type": "stream",
     "text": [
      "Number A is divisible by number B 2 times.\n"
     ]
    }
   ],
   "source": [
    "A = 100\n",
    "B = 5\n",
    "count = 0\n",
    "\n",
    "while A % B == 0:\n",
    "    A = A / B\n",
    "    count += 1\n",
    "\n",
    "print(f\"Number A is divisible by number B {count} times.\")\n",
    "\n"
   ]
  },
  {
   "cell_type": "markdown",
   "id": "272a8b70-65a0-4e05-a8ca-d3eeb7bdaccc",
   "metadata": {},
   "source": [
    "Q6. Create a list containing 25 int type data. Using for loop and if-else condition print if the element is\n",
    "divisible by 3 or not."
   ]
  },
  {
   "cell_type": "code",
   "execution_count": 20,
   "id": "0a70a888-c476-4058-8c32-647735a0c0d0",
   "metadata": {},
   "outputs": [
    {
     "name": "stdout",
     "output_type": "stream",
     "text": [
      "[0, 1, 2, 3, 4, 5, 6, 7, 8, 9, 10, 11, 12, 13, 14, 15, 16, 17, 18, 19, 20, 21, 22, 23, 24]\n",
      "0 is divisible by 3\n",
      "1 is not divisible by 3\n",
      "2 is not divisible by 3\n",
      "3 is divisible by 3\n",
      "4 is not divisible by 3\n",
      "5 is not divisible by 3\n",
      "6 is divisible by 3\n",
      "7 is not divisible by 3\n",
      "8 is not divisible by 3\n",
      "9 is divisible by 3\n",
      "10 is not divisible by 3\n",
      "11 is not divisible by 3\n",
      "12 is divisible by 3\n",
      "13 is not divisible by 3\n",
      "14 is not divisible by 3\n",
      "15 is divisible by 3\n",
      "16 is not divisible by 3\n",
      "17 is not divisible by 3\n",
      "18 is divisible by 3\n",
      "19 is not divisible by 3\n",
      "20 is not divisible by 3\n",
      "21 is divisible by 3\n",
      "22 is not divisible by 3\n",
      "23 is not divisible by 3\n",
      "24 is divisible by 3\n"
     ]
    }
   ],
   "source": [
    "a = [a for a in range(25)]\n",
    "print(a)\n",
    "for number in a:\n",
    "    if number % 3 == 0:\n",
    "        print(f\"{number} is divisible by 3\")\n",
    "    else:\n",
    "        print(f\"{number} is not divisible by 3\")"
   ]
  },
  {
   "cell_type": "markdown",
   "id": "50641293-9cfe-4a6e-b186-9c34bc5ff1e1",
   "metadata": {},
   "source": [
    "Q7. What do you understand about mutable and immutable data types? Give examples for both showing\n",
    "this property."
   ]
  },
  {
   "cell_type": "raw",
   "id": "313f59ef-7223-48a5-bdf9-f567388acd70",
   "metadata": {},
   "source": [
    "Mutable : Mutable data types can have their contents changed after they are created.\n",
    "Immutable : Immutable data types can have their contents cannot be changed after they are created.\n"
   ]
  },
  {
   "cell_type": "code",
   "execution_count": 21,
   "id": "edf3da0c-6aa2-4d2b-ac73-cfb59ac64c59",
   "metadata": {},
   "outputs": [
    {
     "name": "stdout",
     "output_type": "stream",
     "text": [
      "[12, 60, 14, 15, 'Sale']\n"
     ]
    }
   ],
   "source": [
    "# Mutable\n",
    "\n",
    "a = [12,13,14,15,\"Sale\"]  # List example\n",
    "a[1] = 60 # We changed the value at Index Position 1 to the value 60 because it is an Mutable data type.\n",
    "print(a)\n",
    "\n",
    "\n"
   ]
  },
  {
   "cell_type": "code",
   "execution_count": null,
   "id": "f5b2ef57-8a99-4080-94a0-d32f0c5c8c0b",
   "metadata": {},
   "outputs": [],
   "source": [
    "# Immutable \n",
    "\n",
    "b = (\"Hello\", 12, 14 , 14232.2) # Tuple example\n",
    "b(1) == 2 # We cannot change the value of the Tuple as it is an Immutable data type.\n",
    "print(b)"
   ]
  }
 ],
 "metadata": {
  "kernelspec": {
   "display_name": "Python 3 (ipykernel)",
   "language": "python",
   "name": "python3"
  },
  "language_info": {
   "codemirror_mode": {
    "name": "ipython",
    "version": 3
   },
   "file_extension": ".py",
   "mimetype": "text/x-python",
   "name": "python",
   "nbconvert_exporter": "python",
   "pygments_lexer": "ipython3",
   "version": "3.10.8"
  }
 },
 "nbformat": 4,
 "nbformat_minor": 5
}

{
 "cells": [
  {
   "cell_type": "markdown",
   "id": "e740d13c-0a15-40ec-bf14-9f7e51a9b8eb",
   "metadata": {},
   "source": [
    "Q1. What is Abstraction in OOps? Explain with an example."
   ]
  },
  {
   "cell_type": "markdown",
   "id": "043a851d-ea36-45c7-89b5-894c1f5131db",
   "metadata": {},
   "source": [
    "Abstraction is the process of hiding unnecessary details and exposing only essential features to the user. "
   ]
  },
  {
   "cell_type": "code",
   "execution_count": 5,
   "id": "d612f1b6-28ec-4161-9d26-3231b4c7478f",
   "metadata": {},
   "outputs": [
    {
     "name": "stdout",
     "output_type": "stream",
     "text": [
      "Bhau\n",
      "Meow\n"
     ]
    }
   ],
   "source": [
    "# example\n",
    "\n",
    "from abc import ABC, abstractmethod\n",
    "\n",
    "class Animal(ABC):\n",
    "    @abstractmethod\n",
    "    def make_sound(self):\n",
    "        pass\n",
    "\n",
    "class Dog(Animal):\n",
    "    def make_sound(self):\n",
    "        print(\"Bhau\")\n",
    "\n",
    "class Cat(Animal):\n",
    "    def make_sound(self):\n",
    "        print('Meow')\n",
    "\n",
    "dog = Dog()\n",
    "dog.make_sound() \n",
    "\n",
    "cat = Cat()\n",
    "cat.make_sound()\n"
   ]
  },
  {
   "cell_type": "markdown",
   "id": "22ba7e9a-4160-4bf8-8dcb-38743eb2d8ad",
   "metadata": {},
   "source": [
    "# Explanation \n",
    "\n",
    "--> In this example, we have an abstract class 'Animal' that defines an abstract method 'make_sound()' . The 'Animal' class cannot be instantiated itself.\n",
    "\n",
    "-->The Dog and Cat classes inherit from the Animal class and provide their own implementations for the 'make_sound()' method.\n",
    "\n",
    "-->We don't need to worry about the specific details of how each animal makes a sound. We can simply call the 'make_sound()' method on instances of 'Dog; and 'Cat' without concerning ourselves with the internal implementation."
   ]
  },
  {
   "cell_type": "code",
   "execution_count": null,
   "id": "5c5616dc-385a-472d-9998-83558cddee26",
   "metadata": {},
   "outputs": [],
   "source": []
  },
  {
   "cell_type": "markdown",
   "id": "72af74ce-44c0-4f47-b4d7-6c008902bcb9",
   "metadata": {},
   "source": [
    "Q2. Differentiate between Abstraction and Encapsulation. Explain with an example."
   ]
  },
  {
   "cell_type": "markdown",
   "id": "c7f64b6c-8ef0-48cb-9627-c569310e0c30",
   "metadata": {},
   "source": [
    "Abstraction focuses on hiding unncessary details and exposing essential features to the user. It allows the user to interact with the system without knowing the internal implementation of he code.\n",
    "\n",
    "\n",
    "Encapsulationis about combining data and methods together within a class and controlling access to them. It helps in keeping the internal state of an object protected from external interference."
   ]
  },
  {
   "cell_type": "code",
   "execution_count": 7,
   "id": "a8d97073-378c-4b2b-a1b0-9b3c1ef255ca",
   "metadata": {},
   "outputs": [],
   "source": [
    "# example\n",
    "\n",
    "class BankAccount:\n",
    "    def __init__(self, account_number, balance):\n",
    "        self.account_number = account_number\n",
    "        self.balance = balance\n",
    "\n",
    "    def deposit(self, amount):\n",
    "        self.balance += amount\n",
    "\n",
    "    def withdraw(self, amount):\n",
    "        if amount <= self.balance:\n",
    "            self.balance -= amount\n",
    "        else:\n",
    "            print(\"Insufficient balance. Transaction failed. \")\n",
    "\n",
    "    def get_balance(self):\n",
    "        return self.balance\n",
    "\n",
    "    def get_account_number(self):\n",
    "        return self.account_number\n"
   ]
  },
  {
   "cell_type": "markdown",
   "id": "ec113086-0862-4971-a5f0-93c0d3cd0573",
   "metadata": {},
   "source": [
    "--> In this example, the BankAccount class represents a bank account with its account number and balance. The methods deposit(), withdraw(), get_balance(), and get_account_number() provide the interface for interacting with the bank account.\n",
    "\n",
    "--> This is an example of encapsulation because the data (account number, balance) and the methods (deposit, withdraw, get_balance, get_account_number) are comnbinded together within the BankAccount class.\n",
    "\n",
    "--> Abstraction cannot be shown because that's how the balance is stored or how the account number is validated, are not hidden from the user. The user has direct access to the balance and account_number attributes.\n",
    "\n"
   ]
  },
  {
   "cell_type": "code",
   "execution_count": null,
   "id": "bf433e01-8396-4768-89d4-1d0dd0c06fd0",
   "metadata": {},
   "outputs": [],
   "source": []
  },
  {
   "cell_type": "markdown",
   "id": "113b456a-345b-48a4-b1ef-aea7aac843ac",
   "metadata": {},
   "source": [
    "Q3. What is abc module in python? Why is it used?"
   ]
  },
  {
   "cell_type": "markdown",
   "id": "a03d5b9b-6cd4-4e5f-8f9a-7b28c74da63f",
   "metadata": {},
   "source": [
    "'abc' module in Python standss for \"Abstract Base Classes.It provides mechanisms for defining abstract base classes, which can be used to create abstract methods"
   ]
  },
  {
   "cell_type": "code",
   "execution_count": null,
   "id": "d8d73668-8a8f-4104-b2a8-aff5a9490a05",
   "metadata": {},
   "outputs": [],
   "source": []
  },
  {
   "cell_type": "markdown",
   "id": "aee09108-3436-4b03-8014-656bd13c1470",
   "metadata": {},
   "source": [
    "Q4. How can we achieve data abstraction?"
   ]
  },
  {
   "cell_type": "markdown",
   "id": "e3ad963b-f581-48d0-b342-e4859971ae13",
   "metadata": {},
   "source": [
    "--> By the help fo the Access modifiers we can achieve Data Abtraction. Access modifiers control the visibility of variables and methods, allowing us to hide the internal data from direct access."
   ]
  },
  {
   "cell_type": "code",
   "execution_count": null,
   "id": "3ad31e21-b67d-45f9-a44c-d521bffa940d",
   "metadata": {},
   "outputs": [],
   "source": []
  },
  {
   "cell_type": "markdown",
   "id": "594f7a97-e7ca-4e27-a725-5acb75f573d1",
   "metadata": {},
   "source": [
    "Q5. Can we create an instance of an abstract class? Explain your answer."
   ]
  },
  {
   "cell_type": "markdown",
   "id": "8d14fdf0-679b-4fde-984e-c3761e1783dd",
   "metadata": {},
   "source": [
    "No, we cannot create an instance of an abstract class in Python. An abstract class is a class that contains one or more abstract methods, which are methods without any implementation. Since there is no concrete implementation of the class, it's not humanly oissible to create an instance of that class. Hence it \n",
    "will raise an error while doing so"
   ]
  },
  {
   "cell_type": "code",
   "execution_count": 13,
   "id": "50f9bf8c-e7ca-41d9-b89e-99d5ef131775",
   "metadata": {},
   "outputs": [],
   "source": [
    "# example\n",
    "\n",
    "\n",
    "from abc import ABC, abstractmethod\n",
    "\n",
    "class AbstractClass(ABC):\n",
    "    @abstractmethod\n",
    "    def some_method(self):\n",
    "        pass\n",
    "\n",
    "class Normlclass(AbstractClass):\n",
    "    def some_method(self):\n",
    "        print(\"Implementation of some_method in NormalClass\")"
   ]
  },
  {
   "cell_type": "code",
   "execution_count": 14,
   "id": "4769727b-7348-47b7-a42f-2d908ede5f2f",
   "metadata": {},
   "outputs": [
    {
     "ename": "TypeError",
     "evalue": "Can't instantiate abstract class AbstractClass with abstract method some_method",
     "output_type": "error",
     "traceback": [
      "\u001b[0;31m---------------------------------------------------------------------------\u001b[0m",
      "\u001b[0;31mTypeError\u001b[0m                                 Traceback (most recent call last)",
      "Cell \u001b[0;32mIn[14], line 2\u001b[0m\n\u001b[1;32m      1\u001b[0m \u001b[38;5;66;03m# creating instance of the class\u001b[39;00m\n\u001b[0;32m----> 2\u001b[0m obj \u001b[38;5;241m=\u001b[39m \u001b[43mAbstractClass\u001b[49m\u001b[43m(\u001b[49m\u001b[43m)\u001b[49m  \u001b[38;5;66;03m# Raises TypeError\u001b[39;00m\n",
      "\u001b[0;31mTypeError\u001b[0m: Can't instantiate abstract class AbstractClass with abstract method some_method"
     ]
    }
   ],
   "source": [
    "# creating instance of the class\n",
    "obj = AbstractClass()  # Raises TypeError"
   ]
  },
  {
   "cell_type": "code",
   "execution_count": null,
   "id": "62e95a90-798e-46a8-a175-fdb230d11803",
   "metadata": {},
   "outputs": [],
   "source": []
  }
 ],
 "metadata": {
  "kernelspec": {
   "display_name": "Python 3 (ipykernel)",
   "language": "python",
   "name": "python3"
  },
  "language_info": {
   "codemirror_mode": {
    "name": "ipython",
    "version": 3
   },
   "file_extension": ".py",
   "mimetype": "text/x-python",
   "name": "python",
   "nbconvert_exporter": "python",
   "pygments_lexer": "ipython3",
   "version": "3.10.8"
  }
 },
 "nbformat": 4,
 "nbformat_minor": 5
}

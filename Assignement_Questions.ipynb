{
 "cells": [
  {
   "cell_type": "markdown",
   "id": "ca2e1a11-6df6-4a30-a90c-759a104b0b35",
   "metadata": {},
   "source": [
    "Q1. Which keyword is used to create a function? Create a function to return a list of odd numbers in the\n",
    "range of 1 to 25."
   ]
  },
  {
   "cell_type": "markdown",
   "id": "248ff357-7c84-4f8a-a9e9-bfe73bbd2bf7",
   "metadata": {},
   "source": [
    "--> 'def' is the  keyword used to create a function in Python."
   ]
  },
  {
   "cell_type": "code",
   "execution_count": 3,
   "id": "9f5ad90d-2683-47ae-8edb-effe2e95be7d",
   "metadata": {},
   "outputs": [
    {
     "name": "stdout",
     "output_type": "stream",
     "text": [
      "This is an example of Functions. \n"
     ]
    }
   ],
   "source": [
    "def function_new():\n",
    "    print(\"This is an example of Functions. \")\n",
    "\n",
    "function_new() #Calling the Function we created.\n"
   ]
  },
  {
   "cell_type": "code",
   "execution_count": null,
   "id": "f3a25818-69db-41df-b345-7b2eb4522cb7",
   "metadata": {},
   "outputs": [],
   "source": []
  },
  {
   "cell_type": "markdown",
   "id": "3fec27eb-42c4-440b-bf82-fb6cc17e0c3f",
   "metadata": {},
   "source": [
    "Q2. Why *args and **kwargs is used in some functions? Create a function each for *args and **kwargs\n",
    "to demonstrate their use."
   ]
  },
  {
   "cell_type": "markdown",
   "id": "5e43cbdc-6acb-43e5-b625-bb33d0826450",
   "metadata": {},
   "source": [
    "--> *args and **kwargs are used to handle a variable number of arguments in a function.\n",
    "\n",
    "--> THEe *args parameter allows a function to accept any number of positional arguments.\n",
    "\n",
    "--> It collects these arguments into a tuple within the functison. "
   ]
  },
  {
   "cell_type": "code",
   "execution_count": 5,
   "id": "04de48b8-a1d9-4eb6-a6d0-97b9096e0e0e",
   "metadata": {},
   "outputs": [
    {
     "name": "stdout",
     "output_type": "stream",
     "text": [
      "10\n",
      "20\n",
      "30\n",
      "40\n"
     ]
    }
   ],
   "source": [
    "def new_function(*args):\n",
    "    for arg in args:\n",
    "        print(arg)\n",
    "\n",
    "new_function(10,20,30,40)"
   ]
  },
  {
   "cell_type": "code",
   "execution_count": null,
   "id": "1760c810-a8db-48d9-a532-0e69e055d8d6",
   "metadata": {},
   "outputs": [],
   "source": []
  },
  {
   "cell_type": "markdown",
   "id": "f6ab24e3-0266-4f74-a1de-ff8bc14dd440",
   "metadata": {},
   "source": [
    "Q3. What is an iterator in python? Name the method used to initialise the iterator object and the method\n",
    "used for iteration. Use these methods to print the first five elements of the given list [2, 4, 6, 8, 10, 12, 14,\n",
    "16, 18, 20]."
   ]
  },
  {
   "cell_type": "markdown",
   "id": "00a68032-2938-41aa-b511-9fca5b3f4c21",
   "metadata": {},
   "source": [
    "--> Iterator is an object that allows iteration over a sequence of elements.\n",
    "\n",
    "-->It provides a way to access all the elements of a container one by one.\n",
    "\n",
    "\n",
    "\n",
    "\n",
    "--> iter() and next() method can be  used to print the first 5 elements in the List."
   ]
  },
  {
   "cell_type": "code",
   "execution_count": 9,
   "id": "dfb5aeaf-f367-4845-ae19-81e0737d44d9",
   "metadata": {},
   "outputs": [
    {
     "name": "stdout",
     "output_type": "stream",
     "text": [
      "2\n",
      "4\n",
      "6\n",
      "8\n",
      "10\n"
     ]
    }
   ],
   "source": [
    "l= [2, 4, 6, 8, 10, 12, 14, 16, 18, 20]\n",
    "iterr = iter(l)\n",
    "\n",
    "for i in range(5):\n",
    "    element = next(iterr)\n",
    "    print(element)"
   ]
  },
  {
   "cell_type": "code",
   "execution_count": null,
   "id": "4fe918f6-06ce-4668-b005-6718c4ea7053",
   "metadata": {},
   "outputs": [],
   "source": []
  },
  {
   "cell_type": "markdown",
   "id": "4a0b4eaf-0c34-4ceb-8fc9-344d2c95bcd0",
   "metadata": {},
   "source": [
    "Q4. What is a generator function in python? Why yield keyword is used? Give an example of a generator\n",
    "function."
   ]
  },
  {
   "cell_type": "markdown",
   "id": "f4b2db64-d4b6-4576-ad45-946ab9eadfaf",
   "metadata": {},
   "source": [
    "--> Generator functions are the functions that return the traversal object and used to create iterators. It traverses the entire items in one go.\n",
    "\n",
    "\n",
    "--> 'yield' keyword is used in a generator function for defining the values to be generated."
   ]
  },
  {
   "cell_type": "code",
   "execution_count": 8,
   "id": "aeefb343-a264-4a90-a931-68bbba8e4133",
   "metadata": {},
   "outputs": [],
   "source": [
    "# creating our function by 'def' keyword\n",
    "def gen_func():\n",
    "# putting up the work that our function will do,\n",
    "# 'i' will traverse from 0 to 9.\n",
    "    for i in range(10): \n",
    "        # it will generate the number divisible by 2\n",
    "        if i % 2 == 0:\n",
    "            yield i"
   ]
  },
  {
   "cell_type": "code",
   "execution_count": 9,
   "id": "2ba0b596-0c31-4567-a3b6-adc9d195f5eb",
   "metadata": {},
   "outputs": [
    {
     "name": "stdout",
     "output_type": "stream",
     "text": [
      "0\n",
      "2\n",
      "4\n",
      "6\n",
      "8\n"
     ]
    }
   ],
   "source": [
    "for i in gen_func():\n",
    "    print(i)"
   ]
  },
  {
   "cell_type": "code",
   "execution_count": null,
   "id": "7f383409-3027-49a6-8953-d1bb651219b0",
   "metadata": {},
   "outputs": [],
   "source": []
  },
  {
   "cell_type": "markdown",
   "id": "10457e22-1596-470b-9e61-0a12083e1dcd",
   "metadata": {},
   "source": [
    "Q5.Create  a generator function for prime numbers less than 1000. Use the next() method to print the\n",
    "first 20 prime numbers."
   ]
  },
  {
   "cell_type": "code",
   "execution_count": 10,
   "id": "700ef4df-2a73-4a8e-b705-d3311391757c",
   "metadata": {},
   "outputs": [
    {
     "name": "stdout",
     "output_type": "stream",
     "text": [
      "2\n",
      "3\n",
      "5\n",
      "7\n",
      "11\n",
      "13\n",
      "17\n",
      "19\n",
      "23\n",
      "29\n",
      "31\n",
      "37\n",
      "41\n",
      "43\n",
      "47\n",
      "53\n",
      "59\n",
      "61\n",
      "67\n",
      "71\n"
     ]
    }
   ],
   "source": [
    "def is_prime(num):\n",
    "    if num < 2:\n",
    "        return False\n",
    "    for i in range(2, int(num**0.5) + 1):\n",
    "        if num % i == 0:\n",
    "            return False\n",
    "    return True\n",
    "\n",
    "def prime_generator():\n",
    "    num = 2\n",
    "    while num < 1000:\n",
    "        if is_prime(num):\n",
    "            yield num\n",
    "        num += 1\n",
    "\n",
    "# Create the generator object to execute otur fucntion\n",
    "prime_gen = prime_generator()\n",
    "\n",
    "# Priting th next 20 prime numbers \n",
    "for i in range(20):\n",
    "    print(next(prime_gen))\n",
    "\n",
    "\n"
   ]
  },
  {
   "cell_type": "code",
   "execution_count": null,
   "id": "da7a6b3e-8b50-45a7-af62-8ffa616f6064",
   "metadata": {},
   "outputs": [],
   "source": [
    "\n"
   ]
  },
  {
   "cell_type": "markdown",
   "id": "19f8d970-f9ac-48b6-924a-fc7fd0f31c00",
   "metadata": {},
   "source": [
    "Q6. Write a python program to print the first 10 Fibonacci numbers using a while loop."
   ]
  },
  {
   "cell_type": "code",
   "execution_count": 11,
   "id": "d59ca1bb-edbe-45ab-bbdb-0675aa656a86",
   "metadata": {},
   "outputs": [
    {
     "name": "stdout",
     "output_type": "stream",
     "text": [
      "0\n",
      "1\n",
      "1\n",
      "2\n",
      "3\n",
      "5\n",
      "8\n",
      "13\n",
      "21\n",
      "34\n"
     ]
    }
   ],
   "source": [
    "a, b = 0, 1\n",
    "\n",
    "count = 0\n",
    "while count < 10:\n",
    "    print(a)\n",
    "    a, b = b, a + b\n",
    "    count += 1"
   ]
  },
  {
   "cell_type": "code",
   "execution_count": null,
   "id": "671615a8-cf59-4767-b1de-ee1e413c154c",
   "metadata": {},
   "outputs": [],
   "source": []
  },
  {
   "cell_type": "markdown",
   "id": "adf98221-1a84-4170-ae39-aedbb664f803",
   "metadata": {},
   "source": [
    "Write a List Comprehension to iterate through the given string: ‘pwskills’.\n",
    "Expected output: ['p', 'w', 's', 'k', 'i', 'l', 'l', 's']"
   ]
  },
  {
   "cell_type": "code",
   "execution_count": 13,
   "id": "92223169-08d8-4910-83e1-6581e6775215",
   "metadata": {},
   "outputs": [],
   "source": [
    "l = 'pwskills'"
   ]
  },
  {
   "cell_type": "code",
   "execution_count": 18,
   "id": "29f4ced3-9805-436b-8d08-8d7923d1567d",
   "metadata": {},
   "outputs": [
    {
     "data": {
      "text/plain": [
       "['p', 'w', 's', 'k', 'i', 'l', 'l', 's']"
      ]
     },
     "execution_count": 18,
     "metadata": {},
     "output_type": "execute_result"
    }
   ],
   "source": [
    "list(filter(lambda charac: charac in 'pwskills', l))"
   ]
  },
  {
   "cell_type": "code",
   "execution_count": null,
   "id": "bfad1577-aa30-4e15-a9c8-cf298f44ffb5",
   "metadata": {},
   "outputs": [],
   "source": []
  },
  {
   "cell_type": "code",
   "execution_count": null,
   "id": "d4ccf88f-8466-482c-912d-b3d25b825549",
   "metadata": {},
   "outputs": [],
   "source": []
  },
  {
   "cell_type": "code",
   "execution_count": 32,
   "id": "e0eefb27-e405-4331-92d7-ab0d05aeac9b",
   "metadata": {},
   "outputs": [
    {
     "name": "stdout",
     "output_type": "stream",
     "text": [
      "12321 is a palindrome\n"
     ]
    }
   ],
   "source": [
    "def is_palindrome(number):\n",
    "    let = number\n",
    "    reverse = 0\n",
    "    while let > 0:\n",
    "        reverse = reverse * 10 + let % 10\n",
    "        let = let // 10\n",
    "    return number == reverse\n",
    "    "
   ]
  },
  {
   "cell_type": "code",
   "execution_count": 34,
   "id": "14eed525-5ce8-4c2c-ab37-4d98b2eab371",
   "metadata": {},
   "outputs": [
    {
     "name": "stdout",
     "output_type": "stream",
     "text": [
      "69096 is a palindrome\n"
     ]
    }
   ],
   "source": [
    "number = 69096\n",
    "if is_palindrome(number):\n",
    "    print(f\"{number} is a palindrome\")\n",
    "else:\n",
    "    print(f\"{number} is not a palindrome\")"
   ]
  },
  {
   "cell_type": "code",
   "execution_count": null,
   "id": "fe5caa4d-4cf5-4f2d-a499-a95f6b4291f5",
   "metadata": {},
   "outputs": [],
   "source": []
  },
  {
   "cell_type": "markdown",
   "id": "eaafe5f7-3066-4b85-9157-260d589ceeca",
   "metadata": {},
   "source": [
    "Q9. Write a code to print odd numbers from 1 to 100 using list comprehension."
   ]
  },
  {
   "cell_type": "code",
   "execution_count": 49,
   "id": "e1cd5d73-bb67-4eed-97bb-8b2207f99aab",
   "metadata": {},
   "outputs": [],
   "source": [
    "l_100 = []\n",
    "for i in range(1,101):\n",
    "    l_100.append(i)"
   ]
  },
  {
   "cell_type": "code",
   "execution_count": 50,
   "id": "10b36ac7-92ec-4030-a75e-b0782cc4ffa3",
   "metadata": {},
   "outputs": [
    {
     "name": "stdout",
     "output_type": "stream",
     "text": [
      "[1, 2, 3, 4, 5, 6, 7, 8, 9, 10, 11, 12, 13, 14, 15, 16, 17, 18, 19, 20, 21, 22, 23, 24, 25, 26, 27, 28, 29, 30, 31, 32, 33, 34, 35, 36, 37, 38, 39, 40, 41, 42, 43, 44, 45, 46, 47, 48, 49, 50, 51, 52, 53, 54, 55, 56, 57, 58, 59, 60, 61, 62, 63, 64, 65, 66, 67, 68, 69, 70, 71, 72, 73, 74, 75, 76, 77, 78, 79, 80, 81, 82, 83, 84, 85, 86, 87, 88, 89, 90, 91, 92, 93, 94, 95, 96, 97, 98, 99, 100]\n"
     ]
    }
   ],
   "source": [
    "print(l_100)"
   ]
  },
  {
   "cell_type": "code",
   "execution_count": 53,
   "id": "a83bb059-8692-448d-b2d0-b4ff41c40a95",
   "metadata": {},
   "outputs": [
    {
     "name": "stdout",
     "output_type": "stream",
     "text": [
      "[1, 3, 5, 7, 9, 11, 13, 15, 17, 19, 21, 23, 25, 27, 29, 31, 33, 35, 37, 39, 41, 43, 45, 47, 49, 51, 53, 55, 57, 59, 61, 63, 65, 67, 69, 71, 73, 75, 77, 79, 81, 83, 85, 87, 89, 91, 93, 95, 97, 99]\n"
     ]
    }
   ],
   "source": [
    "print([i for i in range(1, 101) if i % 2 != 0])"
   ]
  },
  {
   "cell_type": "code",
   "execution_count": null,
   "id": "69c9eba9-96c2-45db-89ba-618c6f4b20a2",
   "metadata": {},
   "outputs": [],
   "source": []
  }
 ],
 "metadata": {
  "kernelspec": {
   "display_name": "Python 3 (ipykernel)",
   "language": "python",
   "name": "python3"
  },
  "language_info": {
   "codemirror_mode": {
    "name": "ipython",
    "version": 3
   },
   "file_extension": ".py",
   "mimetype": "text/x-python",
   "name": "python",
   "nbconvert_exporter": "python",
   "pygments_lexer": "ipython3",
   "version": "3.10.8"
  }
 },
 "nbformat": 4,
 "nbformat_minor": 5
}

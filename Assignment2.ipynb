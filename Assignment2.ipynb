{
 "cells": [
  {
   "cell_type": "markdown",
   "id": "884128f0-48a5-44a7-be7c-ec306a231be3",
   "metadata": {},
   "source": [
    "Q1. How do you comment code in Python? What are the different types of comments?"
   ]
  },
  {
   "cell_type": "raw",
   "id": "c769f714-66ff-41c4-9aed-42f0f5c282c6",
   "metadata": {},
   "source": [
    "We can write comments in Python in 2 ways.\n",
    "\n",
    "1. Using '#' (hash) before the statement. This is only for the SINGLE LINE Comment\n",
    "\n",
    "2. Using triple 'single or double' quote. This can be used for MULTI-LINE Comment"
   ]
  },
  {
   "cell_type": "code",
   "execution_count": 3,
   "id": "8cdef02e-b1f9-458a-8fc9-96b4c727ca94",
   "metadata": {},
   "outputs": [],
   "source": [
    "# This is a SINGLE LINE COMMENT."
   ]
  },
  {
   "cell_type": "code",
   "execution_count": 4,
   "id": "6fccdc48-d623-4a69-9588-50b8e008a800",
   "metadata": {},
   "outputs": [
    {
     "data": {
      "text/plain": [
       "' THIS IS \\n A MULTI\\n LINE COMMENT '"
      ]
     },
     "execution_count": 4,
     "metadata": {},
     "output_type": "execute_result"
    }
   ],
   "source": [
    "''' THIS IS \n",
    " A MULTI\n",
    " LINE COMMENT '''"
   ]
  },
  {
   "cell_type": "code",
   "execution_count": null,
   "id": "7442200a-954b-40c0-9b4c-3b0490a0d1bc",
   "metadata": {},
   "outputs": [],
   "source": []
  },
  {
   "cell_type": "markdown",
   "id": "26770115-125b-4291-929e-59bbf4903bd9",
   "metadata": {},
   "source": [
    "Q2. What are variables in Python? How do you declare and assign values to variables?"
   ]
  },
  {
   "cell_type": "markdown",
   "id": "643fd556-cf8f-45a4-bfad-7c811ea114c5",
   "metadata": {},
   "source": [
    "Variables are containers for storing data values. Python has no specific command for declaring a variable. It can be declared as soon as we assign a value to it.\n",
    "\n",
    "eg:\n",
    "\n",
    "a = 20 ('a' variable has stored the value 20 ).\n",
    "\n",
    "b= 'Hello' ('b' variable has stored the string HELLO)."
   ]
  },
  {
   "cell_type": "markdown",
   "id": "be1bde68-b7d0-4ef3-a184-afd064a6515f",
   "metadata": {},
   "source": [
    "Q3. How do you convert one data type to another in Python?"
   ]
  },
  {
   "cell_type": "raw",
   "id": "6afd479f-b461-48a7-adbb-d6c647ef4aaf",
   "metadata": {},
   "source": [
    "To convert between types we can simply use the type name as a function."
   ]
  },
  {
   "cell_type": "code",
   "execution_count": 7,
   "id": "e374f19b-dae4-495d-9e71-bf51a6733473",
   "metadata": {},
   "outputs": [
    {
     "name": "stdout",
     "output_type": "stream",
     "text": [
      "201.0\n"
     ]
    },
    {
     "data": {
      "text/plain": [
       "' We converted the INT into FLOAT by using type \\nname as function. '"
      ]
     },
     "execution_count": 7,
     "metadata": {},
     "output_type": "execute_result"
    }
   ],
   "source": [
    "# example\n",
    "a = 201\n",
    "b = float(a)\n",
    "print(b)\n",
    "\n",
    "\"\"\" We converted the INT into FLOAT by using type \n",
    "name as function. \"\"\""
   ]
  },
  {
   "cell_type": "code",
   "execution_count": null,
   "id": "e52c25aa-9ce0-4772-a94d-64fe4289b1ef",
   "metadata": {},
   "outputs": [],
   "source": []
  },
  {
   "cell_type": "markdown",
   "id": "4660f660-b794-48f6-965c-65f105d3cba6",
   "metadata": {},
   "source": [
    "Q4. How do you write and execute a Python script from the command line?"
   ]
  },
  {
   "cell_type": "raw",
   "id": "8974cdbb-88b6-439e-902f-e770b31373a3",
   "metadata": {},
   "source": [
    "To run a Python script store in a ‘.py’ file in command line and we have to write ‘python’ keyword before the file name in the command prompt."
   ]
  },
  {
   "cell_type": "code",
   "execution_count": null,
   "id": "1c77f9b5-d969-4daa-8fab-4e383bdb447e",
   "metadata": {},
   "outputs": [],
   "source": []
  },
  {
   "cell_type": "markdown",
   "id": "652726ca-2128-45c6-9b20-e3b51afbc864",
   "metadata": {},
   "source": [
    "Q5. Given a list my_list = [1, 2, 3, 4, 5], write the code to slice the list and obtain the sub-list [2, 3]."
   ]
  },
  {
   "cell_type": "code",
   "execution_count": 10,
   "id": "2b6370ef-e99d-4c71-86eb-fe4c4dfe7ceb",
   "metadata": {},
   "outputs": [
    {
     "data": {
      "text/plain": [
       "[2, 3]"
      ]
     },
     "execution_count": 10,
     "metadata": {},
     "output_type": "execute_result"
    }
   ],
   "source": [
    "my_list = [1,2,3,4,5]\n",
    "my_list[1:3]"
   ]
  },
  {
   "cell_type": "code",
   "execution_count": null,
   "id": "58e8c76a-00fb-4649-825e-323ee26ea235",
   "metadata": {},
   "outputs": [],
   "source": []
  },
  {
   "cell_type": "markdown",
   "id": "a767b67d-37e1-4818-bb27-11ec6b3f5b7a",
   "metadata": {},
   "source": [
    "Q6. What is a complex number in mathematics, and how is it represented in Python?"
   ]
  },
  {
   "cell_type": "markdown",
   "id": "f863f688-4898-4f4e-a9df-e17c077f35fe",
   "metadata": {},
   "source": [
    "Complex number is a number that can be expressed in the form [a + bi] , where 'a' and 'b' are real numbers, and 'i' is the imaginary unit."
   ]
  },
  {
   "cell_type": "code",
   "execution_count": 18,
   "id": "15e65645-34b7-4bca-82a6-a9714ae5d92e",
   "metadata": {},
   "outputs": [
    {
     "name": "stdout",
     "output_type": "stream",
     "text": [
      "3.0\n",
      "-4.0\n"
     ]
    }
   ],
   "source": [
    "a = 3 - 4j\n",
    "print(a.real)\n",
    "print(a.imag)"
   ]
  },
  {
   "cell_type": "code",
   "execution_count": 19,
   "id": "93a13fca-95de-435b-9ee2-0f6430c7611e",
   "metadata": {},
   "outputs": [
    {
     "name": "stdout",
     "output_type": "stream",
     "text": [
      "(3+4j)\n",
      "3.0\n",
      "4.0\n"
     ]
    }
   ],
   "source": [
    "b = complex(3,4)\n",
    "print(b)\n",
    "print(b.real)\n",
    "print(b.imag)"
   ]
  },
  {
   "cell_type": "code",
   "execution_count": null,
   "id": "403fa483-1af8-4501-b611-05d799be67d0",
   "metadata": {},
   "outputs": [],
   "source": []
  },
  {
   "cell_type": "markdown",
   "id": "2ae4fffd-cb41-4287-a44a-2af37e862dc3",
   "metadata": {},
   "source": [
    "Q7. What is the correct way to declare a variable named age and assign the value 25 to it?"
   ]
  },
  {
   "cell_type": "markdown",
   "id": "d4f837da-7a08-4b10-ab20-195cd53870e4",
   "metadata": {},
   "source": [
    "This statement declares a variable named age and assigns the integer value 25 to it. \n",
    "Since Python is a dynamically typed language, therefore there is no need to type of variable.\n",
    "\n",
    "It's important to note that variable names in Python are case-sensitive, therefore we should do the variable naming properly."
   ]
  },
  {
   "cell_type": "code",
   "execution_count": 21,
   "id": "e600e0a8-2c01-48d6-9a74-c787e07c39f0",
   "metadata": {},
   "outputs": [
    {
     "name": "stdout",
     "output_type": "stream",
     "text": [
      "25\n"
     ]
    }
   ],
   "source": [
    "age = 25\n",
    "print(age)"
   ]
  },
  {
   "cell_type": "code",
   "execution_count": null,
   "id": "eda5d7ad-73aa-4773-9e8d-54ddb0805fe3",
   "metadata": {},
   "outputs": [],
   "source": []
  },
  {
   "cell_type": "markdown",
   "id": "e74e0824-5cfa-4805-ba8e-31f8e3eb9e3c",
   "metadata": {},
   "source": [
    "Q8. Declare a variable named price and assign the value 9.99 to it. What data type does this variable\n",
    "belong to?"
   ]
  },
  {
   "cell_type": "code",
   "execution_count": 23,
   "id": "9c99aaba-6196-49b0-a75d-8452ecc61765",
   "metadata": {},
   "outputs": [
    {
     "data": {
      "text/plain": [
       "float"
      ]
     },
     "execution_count": 23,
     "metadata": {},
     "output_type": "execute_result"
    }
   ],
   "source": [
    "price = 9.99\n",
    "\n",
    "# It belongs to the \"float\" data type.\n",
    "\n",
    "type(price)"
   ]
  },
  {
   "cell_type": "markdown",
   "id": "d6213516-74b3-4946-a96a-aadaaed28000",
   "metadata": {},
   "source": [
    "Q9. Create a variable named name and assign your full name to it as a string. How would you print the\n",
    "value of this variable?"
   ]
  },
  {
   "cell_type": "code",
   "execution_count": 25,
   "id": "f7783817-5cca-42e3-9374-98483af06bcb",
   "metadata": {},
   "outputs": [
    {
     "name": "stdout",
     "output_type": "stream",
     "text": [
      "Sarthak Badola\n"
     ]
    }
   ],
   "source": [
    "name = 'Sarthak Badola'\n",
    "print(name)"
   ]
  },
  {
   "cell_type": "code",
   "execution_count": null,
   "id": "0505e9e3-e0be-4d7a-923a-cabf71984f90",
   "metadata": {},
   "outputs": [],
   "source": []
  },
  {
   "cell_type": "markdown",
   "id": "37288c16-69b1-4ed0-b6cf-01fa3fb83a78",
   "metadata": {},
   "source": [
    "Q10. Given the string \"Hello, World!\", extract the substring \"World\"."
   ]
  },
  {
   "cell_type": "code",
   "execution_count": 32,
   "id": "1cb93279-7686-4109-bd23-44c955f039fa",
   "metadata": {},
   "outputs": [
    {
     "name": "stdout",
     "output_type": "stream",
     "text": [
      "World\n"
     ]
    }
   ],
   "source": [
    "s1 = \"Hello, World!\"\n",
    "print(s1[7:12])"
   ]
  },
  {
   "cell_type": "code",
   "execution_count": null,
   "id": "f2904952-47d3-4400-a490-45b0d0f2ec53",
   "metadata": {},
   "outputs": [],
   "source": []
  },
  {
   "cell_type": "markdown",
   "id": "ff49d631-6ccd-4c52-a3ea-fca8513651b0",
   "metadata": {},
   "source": [
    "Q11. Create a variable named \"is_student\" and assign it a boolean value indicating whether you are\n",
    "currently a student or not."
   ]
  },
  {
   "cell_type": "code",
   "execution_count": 34,
   "id": "6a5b5f34-9dbe-4cfc-a7e0-dba06e6bc9a3",
   "metadata": {},
   "outputs": [],
   "source": [
    "is_student = True"
   ]
  },
  {
   "cell_type": "code",
   "execution_count": null,
   "id": "6a13da4d-0a03-4f84-a702-f440dd6d7040",
   "metadata": {},
   "outputs": [],
   "source": []
  }
 ],
 "metadata": {
  "kernelspec": {
   "display_name": "Python 3 (ipykernel)",
   "language": "python",
   "name": "python3"
  },
  "language_info": {
   "codemirror_mode": {
    "name": "ipython",
    "version": 3
   },
   "file_extension": ".py",
   "mimetype": "text/x-python",
   "name": "python",
   "nbconvert_exporter": "python",
   "pygments_lexer": "ipython3",
   "version": "3.10.8"
  }
 },
 "nbformat": 4,
 "nbformat_minor": 5
}
